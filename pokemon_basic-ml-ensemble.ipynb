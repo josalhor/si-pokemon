{
 "cells": [
  {
   "cell_type": "markdown",
   "id": "5100e620-aba9-4f0f-93bc-cab59a4a4026",
   "metadata": {},
   "source": [
    "# Assignment 2 - Basic Machine Learning to predict Pokémon battles results\n",
    "\n",
    "([From Wikipedia](https://en.wikipedia.org/wiki/Pok%C3%A9mon)) *Pokémon is a Japanese media franchise managed by The Pokémon Company, a company founded by Nintendo, Game Freak, and Creatures. The franchise was created by Satoshi Tajiri in 1996,[4] and is centered on fictional creatures called \"Pokémon\". In Pokémon, humans, known as Pokémon Trainers, catch and train Pokémon to battle other Pokémon for sport.*\n",
    "\n",
    "In this assignment we present you a dataset with the results of several Pokémon battles.\n",
    "\n",
    "Your objective will be to produce a ML model that can predict the outcomes of any Pokémon battle.\n",
    "\n",
    "At first, in this notebook, you will apply some of the basic ML approaches that we have seen in class. At this point you can also work with the *small* versions of the dataset if you want.\n",
    "\n",
    "Later, on the `pokemon-competition.ipynb` notebook, you will train a model using all the data that will be used to predict *real* Pokémon battles.\n",
    "\n",
    "**Dataset Description**\n",
    "\n",
    "Within the `datasets.zip` file that you can download from the virtual campus, you will find the following datasets:\n",
    "\n",
    "- data.train -> Full data available to train the models\n",
    "- data_inverse.train -> Same data as data.train but each combat is seen from the other player's perspective (i.e. pokemon1 becomes pokemon2 and viceversa)\n",
    "- small.train -> Subsample of data.train to allow fast prototyping\n",
    "- small_inverse.train -> Subsample of data_inverse.train to allow fast prototyping\n",
    "- data.hidden -> Dataset with no label available\n",
    "- data_inverse.hidden -> Same as data.hidden but the pokemons are inverted\n",
    "\n",
    "The datasets *.hidden are the ones used to get the tournament score,\n",
    "so the true label is unknown. All the other datasets are available to\n",
    "you to use however you want.\n",
    "\n",
    "*Gotta Train 'Em All!*"
   ]
  },
  {
   "cell_type": "code",
   "execution_count": 1,
   "id": "e91b19e8",
   "metadata": {},
   "outputs": [],
   "source": [
    "# !pip install -r requirements.txt"
   ]
  },
  {
   "cell_type": "code",
   "execution_count": 2,
   "id": "a4817b09-c29c-48cb-9573-2b57f1eb828f",
   "metadata": {},
   "outputs": [
    {
     "data": {
      "text/plain": [
       "Index(['Name', 'Type 1', 'Type 2', 'HP', 'Attack', 'Defense', 'Sp. Atk',\n",
       "       'Sp. Def', 'Speed', 'Generation', 'Legendary', 'Name__other',\n",
       "       'Type 1__other', 'Type 2__other', 'HP__other', 'Attack__other',\n",
       "       'Defense__other', 'Sp. Atk__other', 'Sp. Def__other', 'Speed__other',\n",
       "       'Generation__other', 'Legendary__other'],\n",
       "      dtype='object')"
      ]
     },
     "execution_count": 2,
     "metadata": {},
     "output_type": "execute_result"
    }
   ],
   "source": [
    "from pathlib import Path\n",
    "import pandas\n",
    "import numpy as np\n",
    "import json\n",
    "\n",
    "__wd__ = Path(\"__file__\").resolve().parent\n",
    "datasets_path = __wd__ / \"datasets\"\n",
    "\n",
    "data = pandas.read_csv(datasets_path / \"data.train\", index_col=0)\n",
    "inverse_data = pandas.read_csv(datasets_path / \"data_inverse.train\", index_col=0)\n",
    "\n",
    "def get_Xy(dataset):\n",
    "    return dataset.drop(\"Wins\", axis=1), dataset[\"Wins\"]\n",
    "\n",
    "X, y = get_Xy(data)\n",
    "\n",
    "X.columns"
   ]
  },
  {
   "cell_type": "code",
   "execution_count": 3,
   "id": "bf981562",
   "metadata": {},
   "outputs": [],
   "source": [
    "# Get the list of opposite lables with the current ones\n",
    "def add_opposite_labels(labels):\n",
    "    rt = list(labels)\n",
    "    for l in labels:\n",
    "        rt.append(opposite_label(l))\n",
    "    return rt\n",
    "\n",
    "# Get the list of opposite lables\n",
    "def get_opposite_labels(labels):\n",
    "    return [\n",
    "        opposite_label(l)\n",
    "        for l in labels\n",
    "    ]\n",
    "\n",
    "# Get current labels and opposite ones, to iterate them separetly\n",
    "def double_opposite_labels(labels):\n",
    "    return labels, get_opposite_labels(labels)\n",
    "\n",
    "# Get Opposite of label\n",
    "def opposite_label(label):\n",
    "    other = '__other'\n",
    "    if label.endswith(other):\n",
    "        return label[:-len(other)]\n",
    "    return f'{label}{other}'\n",
    "\n",
    "# Remove prefix from string\n",
    "def remove_prefix(text, prefix):\n",
    "    if text.startswith(prefix):\n",
    "        return text[len(prefix):]\n",
    "    return text\n",
    "\n",
    "SEED = 42"
   ]
  },
  {
   "cell_type": "markdown",
   "id": "2028a1d7-7aac-4606-b742-640fc4aefe25",
   "metadata": {
    "tags": []
   },
   "source": [
    "## Part 1 - Analyze the dataset (2 points)\n",
    "The first step of any ML process is to know the data we are dealing with. In this part, you have to analyze the dataset and answer the questions below.\n",
    "\n",
    "1. Which features are categorical? Which are continuous?"
   ]
  },
  {
   "cell_type": "code",
   "execution_count": 4,
   "id": "449dea12-b977-43e4-b454-6eeb6b62d034",
   "metadata": {},
   "outputs": [
    {
     "data": {
      "text/plain": [
       "'\\nCATEGORICAL: \\n    Name, Type1, Type2, Legendary, Generation\\n    Name_other, Type1__other, Type2__other, Legendary__other, Generation__other\\nCONTINOUS:\\n    HP, Attack, Defense, Sp. Atk, Sp. Def, Speed,\\n    HP_other, Attack__other, Defense__other, Sp. Atk__other, Sp. Def__other, Speed__other\\nNOTE: We consider generation because the domain of the value is fixed and the generations, even though ordered, do not necessarily follow from a continous analysis.\\nThat being said, someone else may consider them continous because they do have order.\\n'"
      ]
     },
     "execution_count": 4,
     "metadata": {},
     "output_type": "execute_result"
    }
   ],
   "source": [
    "X.dtypes\n",
    "'''\n",
    "CATEGORICAL: \n",
    "    Name, Type1, Type2, Legendary, Generation\n",
    "    Name_other, Type1__other, Type2__other, Legendary__other, Generation__other\n",
    "CONTINOUS:\n",
    "    HP, Attack, Defense, Sp. Atk, Sp. Def, Speed,\n",
    "    HP_other, Attack__other, Defense__other, Sp. Atk__other, Sp. Def__other, Speed__other\n",
    "NOTE: We consider generation because the domain of the value is fixed and the generations, even though ordered, do not necessarily follow from a continous analysis.\n",
    "That being said, someone else may consider them continous because they do have order.\n",
    "'''"
   ]
  },
  {
   "cell_type": "markdown",
   "id": "74d6fdf6-20ac-4c0c-b0fc-e39941f774cc",
   "metadata": {},
   "source": [
    "2. Observe the distribution of the \"Type 1\" variable. Use a plot to show this distribution."
   ]
  },
  {
   "cell_type": "code",
   "execution_count": 5,
   "id": "973db97c-436b-480c-924b-76f19f78f619",
   "metadata": {},
   "outputs": [
    {
     "data": {
      "text/plain": [
       "<AxesSubplot: >"
      ]
     },
     "execution_count": 5,
     "metadata": {},
     "output_type": "execute_result"
    },
    {
     "data": {
      "image/png": "[encoded data removed]",
      "text/plain": [
       "<Figure size 400x200 with 1 Axes>"
      ]
     },
     "metadata": {},
     "output_type": "display_data"
    }
   ],
   "source": [
    "X['Type 1'].value_counts().plot(kind='bar', figsize=(4,2), fontsize=6)"
   ]
  },
  {
   "cell_type": "markdown",
   "id": "f024e8b3-590e-4908-8e1e-a77673ec6db2",
   "metadata": {},
   "source": [
    "3. Determine which of the features have missing values. How many missing values there are for each one?"
   ]
  },
  {
   "cell_type": "code",
   "execution_count": 6,
   "id": "607d9660",
   "metadata": {},
   "outputs": [
    {
     "data": {
      "text/plain": [
       "Name                  3994\n",
       "Type 1                3974\n",
       "Type 2               20535\n",
       "HP                    4006\n",
       "Attack                3897\n",
       "Defense               4034\n",
       "Sp. Atk               3920\n",
       "Sp. Def               3982\n",
       "Speed                 3972\n",
       "Generation            3993\n",
       "Legendary             3981\n",
       "Name__other           3963\n",
       "Type 1__other         4010\n",
       "Type 2__other        20594\n",
       "HP__other             4105\n",
       "Attack__other         3995\n",
       "Defense__other        4016\n",
       "Sp. Atk__other        4096\n",
       "Sp. Def__other        4005\n",
       "Speed__other          4044\n",
       "Generation__other     3986\n",
       "Legendary__other      3982\n",
       "dtype: int64"
      ]
     },
     "execution_count": 6,
     "metadata": {},
     "output_type": "execute_result"
    }
   ],
   "source": [
    "X.isna().sum()\n",
    "# About 4000 missing values per column (x2 if you analyze) (aprox 10%)\n",
    "# But Type 2 has extra missing values because not every pokemon has Type 2 (same applies for the __other variable)"
   ]
  },
  {
   "cell_type": "markdown",
   "id": "7f983236-2bf6-495f-adc2-266c0dba82e6",
   "metadata": {},
   "source": [
    "4. Analize the distribution of the target column. Is it balanced?"
   ]
  },
  {
   "cell_type": "code",
   "execution_count": 7,
   "id": "a253ecaf-ee73-42ce-a8eb-db7d23862356",
   "metadata": {},
   "outputs": [
    {
     "name": "stdout",
     "output_type": "stream",
     "text": [
      "Total target\n",
      "False    21152\n",
      "True     18848\n",
      "Name: Wins, dtype: int64\n",
      "\n",
      "Percentage target\n",
      "False    0.5288\n",
      "True     0.4712\n",
      "Name: Wins, dtype: float64\n"
     ]
    },
    {
     "data": {
      "text/plain": [
       "<AxesSubplot: >"
      ]
     },
     "execution_count": 7,
     "metadata": {},
     "output_type": "execute_result"
    },
    {
     "data": {
      "image/png": "[encoded data removed]",
      "text/plain": [
       "<Figure size 400x200 with 1 Axes>"
      ]
     },
     "metadata": {},
     "output_type": "display_data"
    }
   ],
   "source": [
    "print('Total target')\n",
    "print(y.value_counts())\n",
    "\n",
    "print('')\n",
    "\n",
    "print('Percentage target')\n",
    "print(y.value_counts() / len(y))\n",
    "\n",
    "y.value_counts().plot(kind='bar', figsize=(4,2), fontsize=6)\n",
    "# Quite balanced, not perfect 50%, but a 3% deviation doesn't scream bias"
   ]
  },
  {
   "cell_type": "markdown",
   "id": "15bd9135-71cf-4624-8a35-208a23faaaeb",
   "metadata": {
    "tags": []
   },
   "source": [
    "## Part 2 - Preprocess the data (3 points)\n",
    "Once we know how the dataset is, we can proceed with the cleaning of the data. This includes:\n",
    "\n",
    "- Select the features that you want to use (p.e. removing too specific features). Explain why each feature is used or discarded.\n",
    "- Impute the missing values. Explain why you use this imputer and not another one. If you use different imputers for different features, explain the reason why you do this.\n",
    "- Encode the values of the features to work with the model you choose. This can be either encoding the categorical values, or discretizing continuous values."
   ]
  },
  {
   "cell_type": "code",
   "execution_count": 8,
   "id": "f64a7998",
   "metadata": {},
   "outputs": [],
   "source": [
    "'''\n",
    "There is certain information that can be deduced directly from the name of a Pokemon\n",
    "This information is:\n",
    "  - The stats of the Pokemon\n",
    "  - Types of the Pokemon\n",
    "  - Other data such as if the Pokemon is legendary, the generation etc.\n",
    "This allows us to predict aprox 90% of the missing information for the columns that can be deduced from the Pokemon's Name\n",
    "'''\n",
    "class DeduceFeaturesFromNameTransformer:\n",
    "    # We are going to the deduce\n",
    "    # information about these attributes:\n",
    "    deduce_from_name = ['Type 1', 'Legendary', 'Generation']\n",
    "    def __init__(self):\n",
    "        self.fitted_data = {}\n",
    "    \n",
    "    def fit(self, X, y=None):\n",
    "        for col in self.deduce_from_name:\n",
    "            self.fit_column(X, col)\n",
    "        return self\n",
    "    \n",
    "    def fit_column(self, X, column):\n",
    "        name_type = X[add_opposite_labels(['Name', column])].dropna()\n",
    "        column_data = {}\n",
    "        for n, t in double_opposite_labels(['Name', column]):\n",
    "            column_data.update(dict(zip(name_type[n],name_type[t])))\n",
    "\n",
    "        to_add = {}\n",
    "        for k, v in column_data.items():\n",
    "            k = remove_prefix(k, 'Mega ')\n",
    "            if k not in column_data:\n",
    "                to_add[k] = v\n",
    "        column_data.update(to_add)\n",
    "        self.fitted_data[column] = column_data\n",
    "\n",
    "    def transform_column(self, X, column):\n",
    "        for n, t in double_opposite_labels(['Name', column]):\n",
    "            filler = X.apply(lambda row: self.fitted_data[column].get(row[n], None), axis=1)\n",
    "            X[t] = X[t].fillna(filler)\n",
    "\n",
    "    def transform(self, X, y=None):\n",
    "        for col in self.deduce_from_name:\n",
    "            self.transform_column(X, col)\n",
    "        return X\n"
   ]
  },
  {
   "cell_type": "code",
   "execution_count": 9,
   "id": "48fcdfcf",
   "metadata": {},
   "outputs": [],
   "source": [
    "# A lot of pokemons do NOT have Type 2, so those numbers are not representative\n",
    "# We may miss some information otherwise, but we should not fill in random Type 2\n",
    "# from pokemons around\n",
    "\n",
    "# We don't want to fill with other imputters these values if they are None at this point\n",
    "\n",
    "class FillEmptyNonPredictableTransformer:\n",
    "    def fit(self, X, y=None):\n",
    "        return self\n",
    "    \n",
    "    def transform(self, X, y=None):\n",
    "        for col in add_opposite_labels(['Name', 'Type 2', 'Type 1']):\n",
    "            X[col] = X[col].fillna(value='')\n",
    "        return X"
   ]
  },
  {
   "cell_type": "code",
   "execution_count": 10,
   "id": "52ad75ed",
   "metadata": {},
   "outputs": [],
   "source": [
    "predict_columns = [\n",
    "    col\n",
    "    for col in X.columns if '__other' not in col\n",
    "    if col not in {'Name', 'Type 1', 'Type 2'}\n",
    "]\n",
    "name_predict_columns = ['Name'] + predict_columns\n",
    "\n",
    "columns_other = {\n",
    "    opposite_label(col): col for col in name_predict_columns\n",
    "}\n",
    "name_columns_other = get_opposite_labels(name_predict_columns)\n"
   ]
  },
  {
   "cell_type": "code",
   "execution_count": 11,
   "id": "7fb2da3e",
   "metadata": {},
   "outputs": [],
   "source": [
    "'''\n",
    "Abstract transformer that enables to correct and have a consensus of attributes\n",
    "for each unique pokemon\n",
    "'''\n",
    "class BasePokemonDataCorrectorTransformer:\n",
    "\n",
    "    def __init__(self, attr):\n",
    "        self.trained_attrs = {}\n",
    "        self.attr_to_process = attr #['Name'].extend(attr)\n",
    "\n",
    "    '''\n",
    "    This function should generate and return all values needed to store to\n",
    "    properly proccess a correction in the transform step.\n",
    "    Recieves the selected attr column data\n",
    "    '''\n",
    "    def generate_correction_data(self, data):\n",
    "        return NotImplementedError\n",
    "\n",
    "    '''\n",
    "    This function should determine and if needed correct a value from the\n",
    "    current attr being looked using the correction data generated before.\n",
    "    Recieves the value being processed and the correction data needed\n",
    "    '''\n",
    "    def process_correction(self, value, data):\n",
    "        return NotImplementedError\n",
    "\n",
    "    '''\n",
    "    Joins both combating pokemons into a unique set in order to proccess all \n",
    "    attributes of a known pokemon at the same time\n",
    "    '''\n",
    "    def fit(self, X, y=None):\n",
    "        unified_pokemons = X\n",
    "        for name in unified_pokemons['Name'].unique():\n",
    "            selected_pokemon = unified_pokemons[unified_pokemons['Name'] == name]\n",
    "            self.trained_attrs[name] = {}\n",
    "            for attr in self.attr_to_process[1:]:\n",
    "                selected_attr = selected_pokemon[selected_pokemon[attr].notna()][attr]\n",
    "                if len(selected_attr.index) == 0:\n",
    "                    continue\n",
    "                self.trained_attrs[name][attr] = self.generate_correction_data(selected_attr)\n",
    "        return self\n",
    "\n",
    "    def transform(self, X, y=None):\n",
    "        def correct_attr(row, attr):\n",
    "            name = row['Name']\n",
    "            attr_value = row[attr]\n",
    "            if name not in self.trained_attrs or attr not in self.trained_attrs[name]:\n",
    "                return attr_value\n",
    "            return self.process_correction(attr_value, self.trained_attrs[name][attr])\n",
    "\n",
    "        for attr in self.attr_to_process[1:]:\n",
    "            X[attr] = X.apply(lambda row: correct_attr(row, attr), axis=1)\n",
    "        return X"
   ]
  },
  {
   "cell_type": "code",
   "execution_count": 12,
   "id": "fc7a81e0",
   "metadata": {},
   "outputs": [],
   "source": [
    "'''\n",
    "This class aims to correct data regarding all categorical columns specified in the predict variable.\n",
    "In order to correct the data we are pursuing to correct all data missing or misslabeled with the mode of the column\n",
    "*In case there are 2 values with the same mode, we will accept the first one as valid\n",
    "'''\n",
    "class CategoricalConsensusTransformer(BasePokemonDataCorrectorTransformer):\n",
    "    # Overrides not implemented function\n",
    "    def generate_correction_data(self, data):\n",
    "        return data.mode()[0]\n",
    "\n",
    "    # Overrides not implemented function\n",
    "    def process_correction(self, value, data):\n",
    "        def is_wrong(value, mode):\n",
    "            return value == None or value != mode\n",
    "\n",
    "        mode = data\n",
    "        if not is_wrong(value, mode):\n",
    "            return value\n",
    "        return mode"
   ]
  },
  {
   "cell_type": "code",
   "execution_count": 13,
   "id": "64970665",
   "metadata": {},
   "outputs": [],
   "source": [
    "class NumericConsensusTransformer(BasePokemonDataCorrectorTransformer):\n",
    "    # Overrides not implemented function\n",
    "    def generate_correction_data(self, data):\n",
    "        q1 = data.quantile(0.25)\n",
    "        mean = data.mean()\n",
    "        q3 = data.quantile(0.75)\n",
    "        iqr = q3 - q1\n",
    "        max = 1.5 * iqr + q3\n",
    "        min = q1 - 1.5 * iqr\n",
    "        return (min, mean, max)\n",
    "\n",
    "    # Overrides not implemented function\n",
    "    def process_correction(self, value, data):\n",
    "        def is_wrong(value, min, max):\n",
    "            return np.isnan(value) or value > max or value < min\n",
    "\n",
    "        min, mean, max = data\n",
    "        if not is_wrong(value, min, max):\n",
    "            return value\n",
    "        return mean"
   ]
  },
  {
   "cell_type": "code",
   "execution_count": 14,
   "id": "d233e273",
   "metadata": {},
   "outputs": [],
   "source": [
    "class BothSidesTransformer:\n",
    "    def __init__(self, imputer):\n",
    "        self.imputer = imputer\n",
    "    \n",
    "    def get_halfs(self, X):\n",
    "        first_half = X[predict_columns]\n",
    "        second_half = X[get_opposite_labels(predict_columns)]\n",
    "        second_half = second_half.rename(columns=columns_other)\n",
    "        return first_half, second_half\n",
    "\n",
    "    def fit(self, X, y=None):\n",
    "        # Note this transformer assumes that the train data\n",
    "        # is flipped!\n",
    "        first_half, _ = self.get_halfs(X)\n",
    "        self.imputer.fit(first_half)\n",
    "        return self\n",
    "    \n",
    "    def transform(self, X, y=None):\n",
    "        first_half, second_half = self.get_halfs(X)\n",
    "        first_half_predict = self.imputer.transform(first_half)\n",
    "        second_half_predict = self.imputer.transform(second_half)\n",
    "        X[predict_columns] = first_half_predict\n",
    "        X[get_opposite_labels(predict_columns)] = second_half_predict\n",
    "        return X"
   ]
  },
  {
   "cell_type": "code",
   "execution_count": 15,
   "id": "9bf69c3b-a774-4386-bfed-42e127964245",
   "metadata": {},
   "outputs": [],
   "source": [
    "from sklearn.impute import KNNImputer, SimpleImputer\n",
    "\n",
    "class KNNImputerBothSidesTransformer(BothSidesTransformer):\n",
    "    def __init__(self):\n",
    "        super().__init__(KNNImputer(n_neighbors=2, weights='distance'))\n",
    "\n",
    "class SimpleImputterBothSidesTransformer(BothSidesTransformer):\n",
    "    def __init__(self):\n",
    "        super().__init__(SimpleImputer(strategy='mean'))"
   ]
  },
  {
   "cell_type": "code",
   "execution_count": 16,
   "id": "ae2f2cde",
   "metadata": {},
   "outputs": [],
   "source": [
    "class AddPokemonRatiosTransformer:\n",
    "    def __init__(self):\n",
    "        with open('type-chart.json') as f:\n",
    "            self.type_matrix = json.load(f)\n",
    "\n",
    "    def map_row_attack_multipler(self, row, opposite):\n",
    "        all_type_row = ['Type 1', 'Type 2']\n",
    "        if opposite:\n",
    "            type_row = get_opposite_labels(all_type_row)\n",
    "        else:\n",
    "            type_row = all_type_row\n",
    "        best_attack_multiplier = 0.25\n",
    "        at_least_one_type = False\n",
    "        for attack_type in type_row:\n",
    "            attack_type = row[attack_type].lower()\n",
    "            if not attack_type: continue\n",
    "            multiplier = 1\n",
    "            for defense_type in all_type_row:\n",
    "                enemy_defense = defense_type if opposite else opposite_label(defense_type)\n",
    "                defense_type = row[enemy_defense].lower()\n",
    "                if not defense_type: continue\n",
    "                multiplier *= self.type_matrix[attack_type][defense_type]\n",
    "                at_least_one_type = True\n",
    "            best_attack_multiplier = max(best_attack_multiplier, multiplier)\n",
    "        if not at_least_one_type:\n",
    "            return 1\n",
    "        return best_attack_multiplier\n",
    "\n",
    "    def fit(self, X, y=None):\n",
    "        return self\n",
    "    \n",
    "    def transform(self, X, y=None):\n",
    "        clean_ratios = X[add_opposite_labels(['Attack', 'Defense', 'Sp. Atk', 'Sp. Def'])]\n",
    "        clean_ratios = X.replace(0, 1)\n",
    "        tmp_rows = {}\n",
    "        for side in [True, False]:\n",
    "            ot_label = '', '__other'\n",
    "            if not side:\n",
    "                ot_label = ot_label[::-1]\n",
    "            first_label, second_label = ot_label\n",
    "            at_def_ratio = X[f'Attack{first_label}'] / clean_ratios[f'Defense{second_label}']\n",
    "            sp_at_def_ratio = X[f'Sp. Atk{first_label}'] / clean_ratios[f'Sp. Def{second_label}']\n",
    "            best_ratio = pandas.concat([at_def_ratio, sp_at_def_ratio], axis=1).max(axis=1)\n",
    "            X[f'best_attack_ratio{first_label}'] = best_ratio\n",
    "\n",
    "            \n",
    "            tmp_rows[f'is_mega{first_label}'] = X[f'Name{first_label}'].str.contains('Mega ', regex=False).astype(int)\n",
    "            stat_sum = X[[f'HP{first_label}', f'Attack{first_label}' , f'Defense{first_label}' , f'Sp. Atk{first_label}' ,f'Sp. Def{first_label}' ,f'Speed{first_label}']].sum(axis=1)\n",
    "            tmp_rows[f'sum_stats{first_label}'] = stat_sum\n",
    "\n",
    "        X['attack_multiplier'] = X.apply(lambda row: self.map_row_attack_multipler(row, opposite=False),axis=1)\n",
    "        X[opposite_label('attack_multiplier')] = X.apply(lambda row: self.map_row_attack_multipler(row, opposite=True),axis=1)\n",
    "        X['attack_multipler_diff'] = X['attack_multiplier'] - X[opposite_label('attack_multiplier')]\n",
    "        X['sum_stats_diff'] = tmp_rows['sum_stats'] - tmp_rows[opposite_label('sum_stats')]\n",
    "        X['HP_diff'] = X['HP'] - X[opposite_label('HP')]\n",
    "        X['HP_attack'] = X['HP'] / X[opposite_label('attack_multiplier')]\n",
    "        X[opposite_label('HP_attack')] = X[opposite_label('HP')] / X['attack_multiplier']\n",
    "        X['HP_attack_diff'] = X['HP_attack'] - X[opposite_label('HP_attack')]\n",
    "        X['HP_attack_multiplier_diff'] = X['attack_multipler_diff'] * X['HP_diff']\n",
    "        X['mega_diff'] = tmp_rows['is_mega'] - tmp_rows[opposite_label('is_mega')]\n",
    "        X['strong_pokemon'] = X['mega_diff'] + X['Legendary'] - X[opposite_label('Legendary')]\n",
    "        X['velocity_diff'] =  (X['Speed'] - X['Speed__other'])\n",
    "        X['velocity_diff_binary'] =  (X['Speed'] - X['Speed__other']) < 0\n",
    "        return X"
   ]
  },
  {
   "cell_type": "code",
   "execution_count": 17,
   "id": "861b4d6b",
   "metadata": {},
   "outputs": [],
   "source": [
    "from sklearn.base import BaseEstimator, TransformerMixin\n",
    "\n",
    "class IdentityTransformer(BaseEstimator, TransformerMixin):\n",
    "    def __init__(self):\n",
    "        pass\n",
    "    \n",
    "    def fit(self, X, y=None):\n",
    "        return self\n",
    "    \n",
    "    def transform(self, X, y=None):\n",
    "        return X"
   ]
  },
  {
   "cell_type": "markdown",
   "id": "616b803e-0f87-41dc-a1a9-a7256fb824ba",
   "metadata": {},
   "source": [
    "## Part 3 - Training your model (3 points)\n",
    "In this part you have to train a **classifier** model to predict if a Pokemon will win or not a battle against another Pokemon. For this, you should explore at least 3 different classifiers.\n",
    "\n",
    "You have to train and evaluate those classifiers using cross-validation in order to select the best one. Then, you should also study the results of the model (overfit, underfit, possible bias...).\n",
    "\n",
    "1. Train (at least) 3 different classifiers\n",
    "2. Evaluate the 3 classifiers using cross-validation. Select the best model according to this metric.\n",
    "3. For the selected model: \n",
    "   1. Get the accuracy for data not seen during the training process\n",
    "   2. Plot the confusion matrix\n",
    "   3. Analize the results of accuracy and the confusion matrix"
   ]
  },
  {
   "cell_type": "code",
   "execution_count": 18,
   "id": "23068270",
   "metadata": {},
   "outputs": [],
   "source": [
    "from sklearn.preprocessing import StandardScaler, KBinsDiscretizer\n",
    "from sklearn.compose import ColumnTransformer\n",
    "from sklearn.pipeline import Pipeline, make_pipeline\n",
    "from sklearn.preprocessing import OneHotEncoder\n",
    "\n",
    "CATEGORICAL = add_opposite_labels(['Type 1', 'Type 2', 'Legendary'])\n",
    "NUMERIC = add_opposite_labels(['HP', 'Attack', 'Defense', 'Sp. Atk',\n",
    "       'Sp. Def', 'Speed', 'Generation', 'best_attack_ratio',\n",
    "       'attack_multiplier', 'HP_attack']) + \\\n",
    "        ['attack_multipler_diff', 'sum_stats_diff', 'HP_diff', 'mega_diff',\n",
    "       'HP_attack_diff', 'HP_attack_multiplier_diff',\n",
    "       'strong_pokemon', 'velocity_diff', 'strong_pokemon']\n",
    "BINARY = ['mega_diff', 'velocity_diff_binary'] + add_opposite_labels(['Legendary'])\n",
    "\n",
    "pipeline = Pipeline([\n",
    "    ('deducer', DeduceFeaturesFromNameTransformer()),\n",
    "    ('filler', FillEmptyNonPredictableTransformer()),\n",
    "    ('num_consensus', NumericConsensusTransformer(['Name', 'HP', 'Attack', 'Defense', 'Sp. Atk', 'Sp. Def', 'Speed'])),\n",
    "    ('cat_consensus', CategoricalConsensusTransformer(['Name', 'Legendary'])),\n",
    "    # We estimate that the KNN Imputer is better than the Simple Imputter\n",
    "    # However, it is also slow\n",
    "    ('knn', KNNImputerBothSidesTransformer()),\n",
    "    # ('imputer', SimpleImputterBothSidesTransformer()),\n",
    "    \n",
    "    ('ratios', AddPokemonRatiosTransformer()),\n",
    "    (\n",
    "        \"column_transform\", ColumnTransformer(\n",
    "            [\n",
    "                (\n",
    "                    \"cat\",\n",
    "                    OneHotEncoder(sparse_output=True, handle_unknown='ignore'),\n",
    "                    CATEGORICAL\n",
    "                ),\n",
    "                (\"scaler\", StandardScaler(), NUMERIC),\n",
    "                (\"binary\", KBinsDiscretizer(n_bins=2, encode='onehot-dense', strategy='kmeans'), BINARY)\n",
    "            ],\n",
    "            remainder=\"drop\",\n",
    "        )\n",
    "    ),\n",
    "])"
   ]
  },
  {
   "cell_type": "code",
   "execution_count": 19,
   "id": "c41f9e74-4521-413c-9f77-ed70e05b8cc7",
   "metadata": {},
   "outputs": [
    {
     "name": "stdout",
     "output_type": "stream",
     "text": [
      "(40000, 22) (32000, 22) (8000, 22)\n",
      "(40000,) (32000,) (8000,)\n"
     ]
    }
   ],
   "source": [
    "from sklearn.model_selection import train_test_split\n",
    "test_size_pctg = 0.2\n",
    "\n",
    "X_train, X_test, y_train, y_test = train_test_split(X, y, test_size=test_size_pctg, random_state=SEED)\n",
    "\n",
    "print(X.shape, X_train.shape, X_test.shape)\n",
    "print(y.shape, y_train.shape, y_test.shape)"
   ]
  },
  {
   "cell_type": "code",
   "execution_count": 20,
   "id": "6f6210c4",
   "metadata": {},
   "outputs": [
    {
     "data": {
      "text/html": [
       "<style>#sk-container-id-1 {color: black;background-color: white;}#sk-container-id-1 pre{padding: 0;}#sk-container-id-1 div.sk-toggleable {background-color: white;}#sk-container-id-1 label.sk-toggleable__label {cursor: pointer;display: block;width: 100%;margin-bottom: 0;padding: 0.3em;box-sizing: border-box;text-align: center;}#sk-container-id-1 label.sk-toggleable__label-arrow:before {content: \"▸\";float: left;margin-right: 0.25em;color: #696969;}#sk-container-id-1 label.sk-toggleable__label-arrow:hover:before {color: black;}#sk-container-id-1 div.sk-estimator:hover label.sk-toggleable__label-arrow:before {color: black;}#sk-container-id-1 div.sk-toggleable__content {max-height: 0;max-width: 0;overflow: hidden;text-align: left;background-color: #f0f8ff;}#sk-container-id-1 div.sk-toggleable__content pre {margin: 0.2em;color: black;border-radius: 0.25em;background-color: #f0f8ff;}#sk-container-id-1 input.sk-toggleable__control:checked~div.sk-toggleable__content {max-height: 200px;max-width: 100%;overflow: auto;}#sk-container-id-1 input.sk-toggleable__control:checked~label.sk-toggleable__label-arrow:before {content: \"▾\";}#sk-container-id-1 div.sk-estimator input.sk-toggleable__control:checked~label.sk-toggleable__label {background-color: #d4ebff;}#sk-container-id-1 div.sk-label input.sk-toggleable__control:checked~label.sk-toggleable__label {background-color: #d4ebff;}#sk-container-id-1 input.sk-hidden--visually {border: 0;clip: rect(1px 1px 1px 1px);clip: rect(1px, 1px, 1px, 1px);height: 1px;margin: -1px;overflow: hidden;padding: 0;position: absolute;width: 1px;}#sk-container-id-1 div.sk-estimator {font-family: monospace;background-color: #f0f8ff;border: 1px dotted black;border-radius: 0.25em;box-sizing: border-box;margin-bottom: 0.5em;}#sk-container-id-1 div.sk-estimator:hover {background-color: #d4ebff;}#sk-container-id-1 div.sk-parallel-item::after {content: \"\";width: 100%;border-bottom: 1px solid gray;flex-grow: 1;}#sk-container-id-1 div.sk-label:hover label.sk-toggleable__label {background-color: #d4ebff;}#sk-container-id-1 div.sk-serial::before {content: \"\";position: absolute;border-left: 1px solid gray;box-sizing: border-box;top: 0;bottom: 0;left: 50%;z-index: 0;}#sk-container-id-1 div.sk-serial {display: flex;flex-direction: column;align-items: center;background-color: white;padding-right: 0.2em;padding-left: 0.2em;position: relative;}#sk-container-id-1 div.sk-item {position: relative;z-index: 1;}#sk-container-id-1 div.sk-parallel {display: flex;align-items: stretch;justify-content: center;background-color: white;position: relative;}#sk-container-id-1 div.sk-item::before, #sk-container-id-1 div.sk-parallel-item::before {content: \"\";position: absolute;border-left: 1px solid gray;box-sizing: border-box;top: 0;bottom: 0;left: 50%;z-index: -1;}#sk-container-id-1 div.sk-parallel-item {display: flex;flex-direction: column;z-index: 1;position: relative;background-color: white;}#sk-container-id-1 div.sk-parallel-item:first-child::after {align-self: flex-end;width: 50%;}#sk-container-id-1 div.sk-parallel-item:last-child::after {align-self: flex-start;width: 50%;}#sk-container-id-1 div.sk-parallel-item:only-child::after {width: 0;}#sk-container-id-1 div.sk-dashed-wrapped {border: 1px dashed gray;margin: 0 0.4em 0.5em 0.4em;box-sizing: border-box;padding-bottom: 0.4em;background-color: white;}#sk-container-id-1 div.sk-label label {font-family: monospace;font-weight: bold;display: inline-block;line-height: 1.2em;}#sk-container-id-1 div.sk-label-container {text-align: center;}#sk-container-id-1 div.sk-container {/* jupyter's `normalize.less` sets `[hidden] { display: none; }` but bootstrap.min.css set `[hidden] { display: none !important; }` so we also need the `!important` here to be able to override the default hidden behavior on the sphinx rendered scikit-learn.org. See: https://github.com/scikit-learn/scikit-learn/issues/21755 */display: inline-block !important;position: relative;}#sk-container-id-1 div.sk-text-repr-fallback {display: none;}</style><div id=\"sk-container-id-1\" class=\"sk-top-container\"><div class=\"sk-text-repr-fallback\"><pre>Pipeline(steps=[(&#x27;deducer&#x27;,\n",
       "                 &lt;__main__.DeduceFeaturesFromNameTransformer object at 0x7f4ec6e75c90&gt;),\n",
       "                (&#x27;filler&#x27;,\n",
       "                 &lt;__main__.FillEmptyNonPredictableTransformer object at 0x7f4ec6e74df0&gt;),\n",
       "                (&#x27;num_consensus&#x27;,\n",
       "                 &lt;__main__.NumericConsensusTransformer object at 0x7f4ec6e755a0&gt;),\n",
       "                (&#x27;cat_consensus&#x27;,\n",
       "                 &lt;__main__.CategoricalConsensusTransformer object at 0x7f4f1db911b0&gt;),\n",
       "                (&#x27;knn&#x27;,\n",
       "                 &lt;__main...\n",
       "                                                   &#x27;attack_multiplier__other&#x27;,\n",
       "                                                   &#x27;HP_attack__other&#x27;,\n",
       "                                                   &#x27;attack_multipler_diff&#x27;,\n",
       "                                                   &#x27;sum_stats_diff&#x27;, &#x27;HP_diff&#x27;,\n",
       "                                                   &#x27;mega_diff&#x27;,\n",
       "                                                   &#x27;HP_attack_diff&#x27;,\n",
       "                                                   &#x27;HP_attack_multiplier_diff&#x27;,\n",
       "                                                   &#x27;strong_pokemon&#x27;,\n",
       "                                                   &#x27;velocity_diff&#x27;,\n",
       "                                                   &#x27;strong_pokemon&#x27;]),\n",
       "                                                 (&#x27;binary&#x27;,\n",
       "                                                  KBinsDiscretizer(encode=&#x27;onehot-dense&#x27;,\n",
       "                                                                   n_bins=2,\n",
       "                                                                   strategy=&#x27;kmeans&#x27;),\n",
       "                                                  [&#x27;mega_diff&#x27;,\n",
       "                                                   &#x27;velocity_diff_binary&#x27;,\n",
       "                                                   &#x27;Legendary&#x27;,\n",
       "                                                   &#x27;Legendary__other&#x27;])]))])</pre><b>In a Jupyter environment, please rerun this cell to show the HTML representation or trust the notebook. <br />On GitHub, the HTML representation is unable to render, please try loading this page with nbviewer.org.</b></div><div class=\"sk-container\" hidden><div class=\"sk-item sk-dashed-wrapped\"><div class=\"sk-label-container\"><div class=\"sk-label sk-toggleable\"><input class=\"sk-toggleable__control sk-hidden--visually\" id=\"sk-estimator-id-1\" type=\"checkbox\" ><label for=\"sk-estimator-id-1\" class=\"sk-toggleable__label sk-toggleable__label-arrow\">Pipeline</label><div class=\"sk-toggleable__content\"><pre>Pipeline(steps=[(&#x27;deducer&#x27;,\n",
       "                 &lt;__main__.DeduceFeaturesFromNameTransformer object at 0x7f4ec6e75c90&gt;),\n",
       "                (&#x27;filler&#x27;,\n",
       "                 &lt;__main__.FillEmptyNonPredictableTransformer object at 0x7f4ec6e74df0&gt;),\n",
       "                (&#x27;num_consensus&#x27;,\n",
       "                 &lt;__main__.NumericConsensusTransformer object at 0x7f4ec6e755a0&gt;),\n",
       "                (&#x27;cat_consensus&#x27;,\n",
       "                 &lt;__main__.CategoricalConsensusTransformer object at 0x7f4f1db911b0&gt;),\n",
       "                (&#x27;knn&#x27;,\n",
       "                 &lt;__main...\n",
       "                                                   &#x27;attack_multiplier__other&#x27;,\n",
       "                                                   &#x27;HP_attack__other&#x27;,\n",
       "                                                   &#x27;attack_multipler_diff&#x27;,\n",
       "                                                   &#x27;sum_stats_diff&#x27;, &#x27;HP_diff&#x27;,\n",
       "                                                   &#x27;mega_diff&#x27;,\n",
       "                                                   &#x27;HP_attack_diff&#x27;,\n",
       "                                                   &#x27;HP_attack_multiplier_diff&#x27;,\n",
       "                                                   &#x27;strong_pokemon&#x27;,\n",
       "                                                   &#x27;velocity_diff&#x27;,\n",
       "                                                   &#x27;strong_pokemon&#x27;]),\n",
       "                                                 (&#x27;binary&#x27;,\n",
       "                                                  KBinsDiscretizer(encode=&#x27;onehot-dense&#x27;,\n",
       "                                                                   n_bins=2,\n",
       "                                                                   strategy=&#x27;kmeans&#x27;),\n",
       "                                                  [&#x27;mega_diff&#x27;,\n",
       "                                                   &#x27;velocity_diff_binary&#x27;,\n",
       "                                                   &#x27;Legendary&#x27;,\n",
       "                                                   &#x27;Legendary__other&#x27;])]))])</pre></div></div></div><div class=\"sk-serial\"><div class=\"sk-item\"><div class=\"sk-estimator sk-toggleable\"><input class=\"sk-toggleable__control sk-hidden--visually\" id=\"sk-estimator-id-2\" type=\"checkbox\" ><label for=\"sk-estimator-id-2\" class=\"sk-toggleable__label sk-toggleable__label-arrow\">DeduceFeaturesFromNameTransformer</label><div class=\"sk-toggleable__content\"><pre>&lt;__main__.DeduceFeaturesFromNameTransformer object at 0x7f4ec6e75c90&gt;</pre></div></div></div><div class=\"sk-item\"><div class=\"sk-estimator sk-toggleable\"><input class=\"sk-toggleable__control sk-hidden--visually\" id=\"sk-estimator-id-3\" type=\"checkbox\" ><label for=\"sk-estimator-id-3\" class=\"sk-toggleable__label sk-toggleable__label-arrow\">FillEmptyNonPredictableTransformer</label><div class=\"sk-toggleable__content\"><pre>&lt;__main__.FillEmptyNonPredictableTransformer object at 0x7f4ec6e74df0&gt;</pre></div></div></div><div class=\"sk-item\"><div class=\"sk-estimator sk-toggleable\"><input class=\"sk-toggleable__control sk-hidden--visually\" id=\"sk-estimator-id-4\" type=\"checkbox\" ><label for=\"sk-estimator-id-4\" class=\"sk-toggleable__label sk-toggleable__label-arrow\">NumericConsensusTransformer</label><div class=\"sk-toggleable__content\"><pre>&lt;__main__.NumericConsensusTransformer object at 0x7f4ec6e755a0&gt;</pre></div></div></div><div class=\"sk-item\"><div class=\"sk-estimator sk-toggleable\"><input class=\"sk-toggleable__control sk-hidden--visually\" id=\"sk-estimator-id-5\" type=\"checkbox\" ><label for=\"sk-estimator-id-5\" class=\"sk-toggleable__label sk-toggleable__label-arrow\">CategoricalConsensusTransformer</label><div class=\"sk-toggleable__content\"><pre>&lt;__main__.CategoricalConsensusTransformer object at 0x7f4f1db911b0&gt;</pre></div></div></div><div class=\"sk-item\"><div class=\"sk-estimator sk-toggleable\"><input class=\"sk-toggleable__control sk-hidden--visually\" id=\"sk-estimator-id-6\" type=\"checkbox\" ><label for=\"sk-estimator-id-6\" class=\"sk-toggleable__label sk-toggleable__label-arrow\">KNNImputerBothSidesTransformer</label><div class=\"sk-toggleable__content\"><pre>&lt;__main__.KNNImputerBothSidesTransformer object at 0x7f4ee03f2bf0&gt;</pre></div></div></div><div class=\"sk-item\"><div class=\"sk-estimator sk-toggleable\"><input class=\"sk-toggleable__control sk-hidden--visually\" id=\"sk-estimator-id-7\" type=\"checkbox\" ><label for=\"sk-estimator-id-7\" class=\"sk-toggleable__label sk-toggleable__label-arrow\">AddPokemonRatiosTransformer</label><div class=\"sk-toggleable__content\"><pre>&lt;__main__.AddPokemonRatiosTransformer object at 0x7f4ec7417cd0&gt;</pre></div></div></div><div class=\"sk-item sk-dashed-wrapped\"><div class=\"sk-label-container\"><div class=\"sk-label sk-toggleable\"><input class=\"sk-toggleable__control sk-hidden--visually\" id=\"sk-estimator-id-8\" type=\"checkbox\" ><label for=\"sk-estimator-id-8\" class=\"sk-toggleable__label sk-toggleable__label-arrow\">column_transform: ColumnTransformer</label><div class=\"sk-toggleable__content\"><pre>ColumnTransformer(transformers=[(&#x27;cat&#x27;, OneHotEncoder(handle_unknown=&#x27;ignore&#x27;),\n",
       "                                 [&#x27;Type 1&#x27;, &#x27;Type 2&#x27;, &#x27;Legendary&#x27;,\n",
       "                                  &#x27;Type 1__other&#x27;, &#x27;Type 2__other&#x27;,\n",
       "                                  &#x27;Legendary__other&#x27;]),\n",
       "                                (&#x27;scaler&#x27;, StandardScaler(),\n",
       "                                 [&#x27;HP&#x27;, &#x27;Attack&#x27;, &#x27;Defense&#x27;, &#x27;Sp. Atk&#x27;,\n",
       "                                  &#x27;Sp. Def&#x27;, &#x27;Speed&#x27;, &#x27;Generation&#x27;,\n",
       "                                  &#x27;best_attack_ratio&#x27;, &#x27;attack_multiplier&#x27;,\n",
       "                                  &#x27;HP_attack&#x27;, &#x27;HP__other&#x27;, &#x27;Attack__other&#x27;,\n",
       "                                  &#x27;Defense__other&#x27;, &#x27;Sp....\n",
       "                                  &#x27;attack_multiplier__other&#x27;,\n",
       "                                  &#x27;HP_attack__other&#x27;, &#x27;attack_multipler_diff&#x27;,\n",
       "                                  &#x27;sum_stats_diff&#x27;, &#x27;HP_diff&#x27;, &#x27;mega_diff&#x27;,\n",
       "                                  &#x27;HP_attack_diff&#x27;, &#x27;HP_attack_multiplier_diff&#x27;,\n",
       "                                  &#x27;strong_pokemon&#x27;, &#x27;velocity_diff&#x27;,\n",
       "                                  &#x27;strong_pokemon&#x27;]),\n",
       "                                (&#x27;binary&#x27;,\n",
       "                                 KBinsDiscretizer(encode=&#x27;onehot-dense&#x27;,\n",
       "                                                  n_bins=2, strategy=&#x27;kmeans&#x27;),\n",
       "                                 [&#x27;mega_diff&#x27;, &#x27;velocity_diff_binary&#x27;,\n",
       "                                  &#x27;Legendary&#x27;, &#x27;Legendary__other&#x27;])])</pre></div></div></div><div class=\"sk-parallel\"><div class=\"sk-parallel-item\"><div class=\"sk-item\"><div class=\"sk-label-container\"><div class=\"sk-label sk-toggleable\"><input class=\"sk-toggleable__control sk-hidden--visually\" id=\"sk-estimator-id-9\" type=\"checkbox\" ><label for=\"sk-estimator-id-9\" class=\"sk-toggleable__label sk-toggleable__label-arrow\">cat</label><div class=\"sk-toggleable__content\"><pre>[&#x27;Type 1&#x27;, &#x27;Type 2&#x27;, &#x27;Legendary&#x27;, &#x27;Type 1__other&#x27;, &#x27;Type 2__other&#x27;, &#x27;Legendary__other&#x27;]</pre></div></div></div><div class=\"sk-serial\"><div class=\"sk-item\"><div class=\"sk-estimator sk-toggleable\"><input class=\"sk-toggleable__control sk-hidden--visually\" id=\"sk-estimator-id-10\" type=\"checkbox\" ><label for=\"sk-estimator-id-10\" class=\"sk-toggleable__label sk-toggleable__label-arrow\">OneHotEncoder</label><div class=\"sk-toggleable__content\"><pre>OneHotEncoder(handle_unknown=&#x27;ignore&#x27;)</pre></div></div></div></div></div></div><div class=\"sk-parallel-item\"><div class=\"sk-item\"><div class=\"sk-label-container\"><div class=\"sk-label sk-toggleable\"><input class=\"sk-toggleable__control sk-hidden--visually\" id=\"sk-estimator-id-11\" type=\"checkbox\" ><label for=\"sk-estimator-id-11\" class=\"sk-toggleable__label sk-toggleable__label-arrow\">scaler</label><div class=\"sk-toggleable__content\"><pre>[&#x27;HP&#x27;, &#x27;Attack&#x27;, &#x27;Defense&#x27;, &#x27;Sp. Atk&#x27;, &#x27;Sp. Def&#x27;, &#x27;Speed&#x27;, &#x27;Generation&#x27;, &#x27;best_attack_ratio&#x27;, &#x27;attack_multiplier&#x27;, &#x27;HP_attack&#x27;, &#x27;HP__other&#x27;, &#x27;Attack__other&#x27;, &#x27;Defense__other&#x27;, &#x27;Sp. Atk__other&#x27;, &#x27;Sp. Def__other&#x27;, &#x27;Speed__other&#x27;, &#x27;Generation__other&#x27;, &#x27;best_attack_ratio__other&#x27;, &#x27;attack_multiplier__other&#x27;, &#x27;HP_attack__other&#x27;, &#x27;attack_multipler_diff&#x27;, &#x27;sum_stats_diff&#x27;, &#x27;HP_diff&#x27;, &#x27;mega_diff&#x27;, &#x27;HP_attack_diff&#x27;, &#x27;HP_attack_multiplier_diff&#x27;, &#x27;strong_pokemon&#x27;, &#x27;velocity_diff&#x27;, &#x27;strong_pokemon&#x27;]</pre></div></div></div><div class=\"sk-serial\"><div class=\"sk-item\"><div class=\"sk-estimator sk-toggleable\"><input class=\"sk-toggleable__control sk-hidden--visually\" id=\"sk-estimator-id-12\" type=\"checkbox\" ><label for=\"sk-estimator-id-12\" class=\"sk-toggleable__label sk-toggleable__label-arrow\">StandardScaler</label><div class=\"sk-toggleable__content\"><pre>StandardScaler()</pre></div></div></div></div></div></div><div class=\"sk-parallel-item\"><div class=\"sk-item\"><div class=\"sk-label-container\"><div class=\"sk-label sk-toggleable\"><input class=\"sk-toggleable__control sk-hidden--visually\" id=\"sk-estimator-id-13\" type=\"checkbox\" ><label for=\"sk-estimator-id-13\" class=\"sk-toggleable__label sk-toggleable__label-arrow\">binary</label><div class=\"sk-toggleable__content\"><pre>[&#x27;mega_diff&#x27;, &#x27;velocity_diff_binary&#x27;, &#x27;Legendary&#x27;, &#x27;Legendary__other&#x27;]</pre></div></div></div><div class=\"sk-serial\"><div class=\"sk-item\"><div class=\"sk-estimator sk-toggleable\"><input class=\"sk-toggleable__control sk-hidden--visually\" id=\"sk-estimator-id-14\" type=\"checkbox\" ><label for=\"sk-estimator-id-14\" class=\"sk-toggleable__label sk-toggleable__label-arrow\">KBinsDiscretizer</label><div class=\"sk-toggleable__content\"><pre>KBinsDiscretizer(encode=&#x27;onehot-dense&#x27;, n_bins=2, strategy=&#x27;kmeans&#x27;)</pre></div></div></div></div></div></div></div></div></div></div></div></div>"
      ],
      "text/plain": [
       "Pipeline(steps=[('deducer',\n",
       "                 <__main__.DeduceFeaturesFromNameTransformer object at 0x7f4ec6e75c90>),\n",
       "                ('filler',\n",
       "                 <__main__.FillEmptyNonPredictableTransformer object at 0x7f4ec6e74df0>),\n",
       "                ('num_consensus',\n",
       "                 <__main__.NumericConsensusTransformer object at 0x7f4ec6e755a0>),\n",
       "                ('cat_consensus',\n",
       "                 <__main__.CategoricalConsensusTransformer object at 0x7f4f1db911b0>),\n",
       "                ('knn',\n",
       "                 <__main...\n",
       "                                                   'attack_multiplier__other',\n",
       "                                                   'HP_attack__other',\n",
       "                                                   'attack_multipler_diff',\n",
       "                                                   'sum_stats_diff', 'HP_diff',\n",
       "                                                   'mega_diff',\n",
       "                                                   'HP_attack_diff',\n",
       "                                                   'HP_attack_multiplier_diff',\n",
       "                                                   'strong_pokemon',\n",
       "                                                   'velocity_diff',\n",
       "                                                   'strong_pokemon']),\n",
       "                                                 ('binary',\n",
       "                                                  KBinsDiscretizer(encode='onehot-dense',\n",
       "                                                                   n_bins=2,\n",
       "                                                                   strategy='kmeans'),\n",
       "                                                  ['mega_diff',\n",
       "                                                   'velocity_diff_binary',\n",
       "                                                   'Legendary',\n",
       "                                                   'Legendary__other'])]))])"
      ]
     },
     "execution_count": 20,
     "metadata": {},
     "output_type": "execute_result"
    }
   ],
   "source": [
    "pipeline.fit(X_train)"
   ]
  },
  {
   "cell_type": "code",
   "execution_count": 21,
   "id": "c44f3764",
   "metadata": {},
   "outputs": [],
   "source": [
    "X_train_encoded = pipeline.transform(X_train)\n",
    "X_test_encoded = pipeline.transform(X_test)"
   ]
  },
  {
   "cell_type": "code",
   "execution_count": 22,
   "id": "8c81b2e1",
   "metadata": {},
   "outputs": [],
   "source": [
    "from sklearn.model_selection import cross_val_score\n",
    "# Determine number of folds for cross validation\n",
    "FOLDS = 5\n",
    "\n",
    "def determine_cross_score(predictor, X_data, y_data, folds=FOLDS):\n",
    "    results = cross_val_score(predictor, X_data, y_data, cv=folds)\n",
    "    final_score = sum(results) / folds\n",
    "    print(predictor.__class__.__name__, \"score:\", final_score)"
   ]
  },
  {
   "cell_type": "code",
   "execution_count": 23,
   "id": "93f9c900",
   "metadata": {},
   "outputs": [
    {
     "data": {
      "text/plain": [
       "('Train Score', 0.87746875)"
      ]
     },
     "execution_count": 23,
     "metadata": {},
     "output_type": "execute_result"
    }
   ],
   "source": [
    "from sklearn.model_selection import train_test_split, cross_val_score\n",
    "from sklearn.tree import DecisionTreeClassifier\n",
    "from matplotlib import pyplot as plt\n",
    "from sklearn import tree\n",
    "\n",
    "dtc_model = DecisionTreeClassifier(criterion=\"entropy\", max_depth=6, min_samples_leaf=5, random_state=SEED)\n",
    "dtc_model.fit(X_train_encoded, y_train)\n",
    "'Train Score', dtc_model.score(X_train_encoded, y_train)"
   ]
  },
  {
   "attachments": {},
   "cell_type": "markdown",
   "id": "62c1f0c8",
   "metadata": {},
   "source": [
    "In the next section we are plotting the decision tree result in order to identify KEY columns in the splitting"
   ]
  },
  {
   "cell_type": "code",
   "execution_count": 24,
   "id": "3e9a264f",
   "metadata": {},
   "outputs": [],
   "source": [
    "# TODO: Amb el OneHotEncoder aixo ja no funciona!!! Perque el OneHotEncoder ens manipula les columnes!\n",
    "# from sklearn import tree\n",
    "# import matplotlib.pyplot as plt\n",
    "\n",
    "# plt.figure(figsize=(30, 20))\n",
    "# tree.plot_tree(dtc_model, class_names=[\"False\", \"True\"], feature_names=DropTransformer.KEEP_COLUMNS)\n",
    "# plt.show()"
   ]
  },
  {
   "cell_type": "code",
   "execution_count": 25,
   "id": "f5408aa0",
   "metadata": {},
   "outputs": [
    {
     "data": {
      "text/plain": [
       "('Train Score', 0.87315625)"
      ]
     },
     "execution_count": 25,
     "metadata": {},
     "output_type": "execute_result"
    }
   ],
   "source": [
    "from sklearn.model_selection import train_test_split\n",
    "from sklearn.ensemble import RandomForestClassifier\n",
    "\n",
    "rfc_model = RandomForestClassifier(criterion=\"entropy\", max_depth=9, min_samples_leaf=5, random_state=SEED)\n",
    "rfc_model.fit(X_train_encoded, y_train)\n",
    "'Train Score', rfc_model.score(X_train_encoded, y_train)"
   ]
  },
  {
   "cell_type": "code",
   "execution_count": 26,
   "id": "6bd96e40",
   "metadata": {},
   "outputs": [],
   "source": [
    "# predict = rfc_model.predict(X_train_encoded)\n",
    "# different = y_train != predict\n",
    "# import pandas as pd\n",
    "# pd.set_option('display.max_columns', None)\n",
    "# pd.set_option('display.width', None)\n",
    "# pd.set_option('display.max_colwidth', -1)\n",
    "\n",
    "# print(X_train.loc[different].iloc[7].astype(str))\n",
    "# print(y_train.loc[different].iloc[7])\n",
    "\n",
    "# # AddPokemonRatiosTransformer().map_row_attack_multipler(X_train.loc[different].iloc[0], opposite=True)"
   ]
  },
  {
   "cell_type": "code",
   "execution_count": 27,
   "id": "fc3dc418",
   "metadata": {},
   "outputs": [
    {
     "data": {
      "text/plain": [
       "('Train Score', 0.88475, 'Test Score', 0.87975)"
      ]
     },
     "execution_count": 27,
     "metadata": {},
     "output_type": "execute_result"
    }
   ],
   "source": [
    "from sklearn.neural_network import MLPClassifier\n",
    "\n",
    "mlp_model = MLPClassifier(hidden_layer_sizes=(6, 4, 2), max_iter=1000, random_state=SEED)\n",
    "mlp_model.fit(X_train_encoded, y_train)\n",
    "'Train Score', mlp_model.score(X_train_encoded, y_train), 'Test Score', mlp_model.score(X_test_encoded, y_test)"
   ]
  },
  {
   "cell_type": "code",
   "execution_count": 28,
   "id": "41ace21b",
   "metadata": {},
   "outputs": [],
   "source": [
    "# This is incredibly slow and it doesn't even perform that well\n",
    "# from sklearn.neighbors import KNeighborsClassifier\n",
    "\n",
    "# knn_model = KNeighborsClassifier()\n",
    "# knn_model.fit(X_train_encoded, y_train)\n",
    "# 'Train Score', knn_model.score(X_train_encoded, y_train)"
   ]
  },
  {
   "attachments": {},
   "cell_type": "markdown",
   "id": "7abe803c",
   "metadata": {},
   "source": [
    "### Best model"
   ]
  },
  {
   "cell_type": "code",
   "execution_count": 29,
   "id": "81991767",
   "metadata": {},
   "outputs": [
    {
     "name": "stdout",
     "output_type": "stream",
     "text": [
      "DecisionTreeClassifier score: 0.8702500000000001\n",
      "RandomForestClassifier score: 0.8678125\n",
      "MLPClassifier score: 0.8705\n"
     ]
    }
   ],
   "source": [
    "determine_cross_score(dtc_model, X_train_encoded, y_train)\n",
    "determine_cross_score(rfc_model, X_train_encoded, y_train)\n",
    "determine_cross_score(mlp_model, X_train_encoded, y_train)"
   ]
  },
  {
   "cell_type": "code",
   "execution_count": 30,
   "id": "e8cda5de",
   "metadata": {},
   "outputs": [
    {
     "data": {
      "image/png": "[encoded data removed]",
      "text/plain": [
       "<Figure size 640x480 with 2 Axes>"
      ]
     },
     "metadata": {},
     "output_type": "display_data"
    }
   ],
   "source": [
    "# Generating confusion matrix\n",
    "from sklearn.metrics import confusion_matrix\n",
    "from sklearn.metrics import classification_report\n",
    "\n",
    "from sklearn.metrics import ConfusionMatrixDisplay\n",
    "import matplotlib.pyplot as plt\n",
    "\n",
    "test_conf_matrix = confusion_matrix(y_train, rfc_model.predict(X_train_encoded))\n",
    "test_disp = ConfusionMatrixDisplay(test_conf_matrix)\n",
    "test_disp.plot()\n",
    "plt.show()"
   ]
  },
  {
   "cell_type": "markdown",
   "id": "bc186c17-b9e0-4ad6-82a9-6b638ab41d0d",
   "metadata": {},
   "source": [
    "## Part 4 (Optional) - Create an ensemble and configure the model\n",
    "\n",
    "You have trained different classifiers but selected only one of them as \"the best\" one. Maybe instead of having the models competing between them, having them to colaborate would yield better results. \n",
    "\n",
    "We propose you to create an ensemble of the different classifiers explored in *Part 3*. You should compare the ensemble with the individual models using cross-validation, and then get the final accuracy and the confusion matrix for the ensemble.\n",
    "As a bonus, try to tune the parameters of this ensemble using either `GridSearchCV` or `RandomizedSearchCV`.\n",
    "\n",
    "1. Train an ensemble with the classifiers in *Part 3*.\n",
    "2. Compare the performance of this ensemble using cross-validation, the final accuracy, and the confusion matrix. Analyze the results.\n",
    "3. Fine-tune the hyper-parameters of the ensemble using `GridSearchCV` or `RandomizedSearchCV`."
   ]
  },
  {
   "cell_type": "code",
   "execution_count": 31,
   "id": "e47ecaec",
   "metadata": {},
   "outputs": [],
   "source": []
  },
  {
   "cell_type": "code",
   "execution_count": 34,
   "id": "e6f8a7e8-0d31-44a0-bbfa-ed74337edf8c",
   "metadata": {},
   "outputs": [
    {
     "name": "stdout",
     "output_type": "stream",
     "text": [
      "Before:\n",
      "0.88075\n",
      "VotingClassifier score: 0.874375\n",
      "After:\n"
     ]
    },
    {
     "name": "stderr",
     "output_type": "stream",
     "text": [
      "/home/josalhor/Desktop/si-pokemon/venv/lib/python3.10/site-packages/sklearn/neural_network/_multilayer_perceptron.py:686: UserWarning: Training interrupted by user.\n",
      "  warnings.warn(\"Training interrupted by user.\")\n"
     ]
    }
   ],
   "source": [
    "# As our models have quite a large number of inputs, we are opting to use the RandomizedSearchCV\n",
    "from sklearn.model_selection import RandomizedSearchCV\n",
    "from sklearn.ensemble import VotingClassifier\n",
    "\n",
    "eclf = VotingClassifier(estimators=[('dtc', dtc_model), ('rfc', rfc_model), ('mlp', mlp_model)], voting='soft', weights=[1, 2, 2])\n",
    "eclf.fit(X_train_encoded, y_train)\n",
    "print(\"Before:\")\n",
    "print(eclf.score(X_test_encoded, y_test))\n",
    "determine_cross_score(eclf, X_train_encoded, y_train)\n",
    "print(\"After:\")\n",
    "eclf = VotingClassifier(estimators=[('dtc', dtc_model), ('rfc', rfc_model), ('mlp', mlp_model)], voting='soft', weights=[1, 2, 2])\n",
    "parameters = {\n",
    "    'rfc__n_estimators': list(range(1, 200)),\n",
    "    'rfc__max_depth': list(range(5, 25)),\n",
    "    'dtc__max_depth': list(range(5, 25)),\n",
    "    'mlp__max_iter': list(range(500, 1200)),\n",
    "}\n",
    "\n",
    "clf = RandomizedSearchCV(eclf, parameters, cv=5, n_jobs=-1, n_iter=5, random_state=SEED)\n",
    "clf.fit(X_train_encoded, y_train)\n",
    "print(\"Randomized Search:\")\n",
    "print(eclf.score(X_test_encoded, y_test))\n",
    "\n"
   ]
  },
  {
   "cell_type": "code",
   "execution_count": null,
   "id": "45cedf12",
   "metadata": {},
   "outputs": [],
   "source": [
    "r_conf_matrix = confusion_matrix(y_train, clf.best_estimator_.predict(X_train_encoded))\n",
    "test_disp = ConfusionMatrixDisplay(r_conf_matrix)\n",
    "test_disp.plot()\n",
    "plt.show()"
   ]
  },
  {
   "cell_type": "markdown",
   "id": "44b2b144-ee23-4c6a-b8c8-4abf6e85dedb",
   "metadata": {},
   "source": [
    "## Part 5 - Wrap-up (2 points)\n",
    "The final part of this assignment is to wrap-up your classifier into a pipeline. This pipeline will execute the entire process:\n",
    "\n",
    "- Preprocess the data\n",
    "    - Select features\n",
    "    - Impute data\n",
    "    - Encode values\n",
    "- The classifier selected in *Part 3* (or the ensemble if it is better)\n",
    "\n",
    "This pipeline will be used in the other provided notebook to generate the predictions for the combats you have to submit.\n",
    "\n",
    "To ensure everything works as expected, we recommend you to load the dataset again before using it with the pipeline. You should also compare the accuracy and the confusion matrix from the pipeline with the model trained before. **Remember to set the random state to all the required transformers and estimators to have a constant output**."
   ]
  },
  {
   "cell_type": "code",
   "execution_count": null,
   "id": "f464b6bb-4f99-4671-ba66-5f8d93ee1a46",
   "metadata": {},
   "outputs": [],
   "source": [
    "# Everything has already been done using a pipeline"
   ]
  }
 ],
 "metadata": {
  "kernelspec": {
   "display_name": "venv",
   "language": "python",
   "name": "python3"
  },
  "language_info": {
   "codemirror_mode": {
    "name": "ipython",
    "version": 3
   },
   "file_extension": ".py",
   "mimetype": "text/x-python",
   "name": "python",
   "nbconvert_exporter": "python",
   "pygments_lexer": "ipython3",
   "version": "3.10.6"
  },
  "vscode": {
   "interpreter": {
    "hash": "a40a9907af80ab7544b853e115e9640ce53f7cc981912ef559c1328ace6864ed"
   }
  }
 },
 "nbformat": 4,
 "nbformat_minor": 5
}
