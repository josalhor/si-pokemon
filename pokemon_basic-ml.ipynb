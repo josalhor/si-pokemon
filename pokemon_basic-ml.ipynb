{
 "cells": [
  {
   "cell_type": "markdown",
   "id": "5100e620-aba9-4f0f-93bc-cab59a4a4026",
   "metadata": {},
   "source": [
    "# Assignment 2 - Basic Machine Learning to predict Pokémon battles results\n",
    "\n",
    "([From Wikipedia](https://en.wikipedia.org/wiki/Pok%C3%A9mon)) *Pokémon is a Japanese media franchise managed by The Pokémon Company, a company founded by Nintendo, Game Freak, and Creatures. The franchise was created by Satoshi Tajiri in 1996,[4] and is centered on fictional creatures called \"Pokémon\". In Pokémon, humans, known as Pokémon Trainers, catch and train Pokémon to battle other Pokémon for sport.*\n",
    "\n",
    "In this assignment we present you a dataset with the results of several Pokémon battles.\n",
    "\n",
    "Your objective will be to produce a ML model that can predict the outcomes of any Pokémon battle.\n",
    "\n",
    "At first, in this notebook, you will apply some of the basic ML approaches that we have seen in class. At this point you can also work with the *small* versions of the dataset if you want.\n",
    "\n",
    "Later, on the `pokemon-competition.ipynb` notebook, you will train a model using all the data that will be used to predict *real* Pokémon battles.\n",
    "\n",
    "**Dataset Description**\n",
    "\n",
    "Within the `datasets.zip` file that you can download from the virtual campus, you will find the following datasets:\n",
    "\n",
    "- data.train -> Full data available to train the models\n",
    "- data_inverse.train -> Same data as data.train but each combat is seen from the other player's perspective (i.e. pokemon1 becomes pokemon2 and viceversa)\n",
    "- small.train -> Subsample of data.train to allow fast prototyping\n",
    "- small_inverse.train -> Subsample of data_inverse.train to allow fast prototyping\n",
    "- data.hidden -> Dataset with no label available\n",
    "- data_inverse.hidden -> Same as data.hidden but the pokemons are inverted\n",
    "\n",
    "The datasets *.hidden are the ones used to get the tournament score,\n",
    "so the true label is unknown. All the other datasets are available to\n",
    "you to use however you want.\n",
    "\n",
    "*Gotta Train 'Em All!*"
   ]
  },
  {
   "cell_type": "code",
   "execution_count": 1,
   "id": "a4817b09-c29c-48cb-9573-2b57f1eb828f",
   "metadata": {},
   "outputs": [
    {
     "data": {
      "text/plain": [
       "Index(['Name', 'Type 1', 'Type 2', 'HP', 'Attack', 'Defense', 'Sp. Atk',\n",
       "       'Sp. Def', 'Speed', 'Generation', 'Legendary', 'Name__other',\n",
       "       'Type 1__other', 'Type 2__other', 'HP__other', 'Attack__other',\n",
       "       'Defense__other', 'Sp. Atk__other', 'Sp. Def__other', 'Speed__other',\n",
       "       'Generation__other', 'Legendary__other'],\n",
       "      dtype='object')"
      ]
     },
     "execution_count": 1,
     "metadata": {},
     "output_type": "execute_result"
    }
   ],
   "source": [
    "from pathlib import Path\n",
    "import pandas\n",
    "import numpy as np\n",
    "import json\n",
    "\n",
    "__wd__ = Path(\"__file__\").resolve().parent\n",
    "datasets_path = __wd__ / \"datasets\"\n",
    "\n",
    "data = pandas.read_csv(datasets_path / \"data.train\", index_col=0)\n",
    "inverse_data = pandas.read_csv(datasets_path / \"data_inverse.train\", index_col=0)\n",
    "\n",
    "def get_Xy(dataset):\n",
    "    return dataset.drop(\"Wins\", axis=1), dataset[\"Wins\"]\n",
    "\n",
    "X, y = get_Xy(data)\n",
    "\n",
    "X.columns"
   ]
  },
  {
   "cell_type": "code",
   "execution_count": 2,
   "id": "bf981562",
   "metadata": {},
   "outputs": [],
   "source": [
    "# Get the list of opposite lables with the current ones\n",
    "def add_opposite_labels(labels):\n",
    "    rt = list(labels)\n",
    "    for l in labels:\n",
    "        rt.append(opposite_label(l))\n",
    "    return rt\n",
    "\n",
    "# Get the list of opposite lables\n",
    "def get_opposite_labels(labels):\n",
    "    return [\n",
    "        opposite_label(l)\n",
    "        for l in labels\n",
    "    ]\n",
    "\n",
    "# Get current labels and opposite ones, to iterate them separetly\n",
    "def double_opposite_labels(labels):\n",
    "    return labels, get_opposite_labels(labels)\n",
    "\n",
    "# Get Opposite of label\n",
    "def opposite_label(label):\n",
    "    other = '__other'\n",
    "    if label.endswith(other):\n",
    "        return label[:-len(other)]\n",
    "    return f'{label}{other}'\n",
    "\n",
    "# Remove prefix from string\n",
    "def remove_prefix(text, prefix):\n",
    "    if text.startswith(prefix):\n",
    "        return text[len(prefix):]\n",
    "    return text"
   ]
  },
  {
   "cell_type": "markdown",
   "id": "2028a1d7-7aac-4606-b742-640fc4aefe25",
   "metadata": {
    "tags": []
   },
   "source": [
    "## Part 1 - Analyze the dataset (2 points)\n",
    "The first step of any ML process is to know the data we are dealing with. In this part, you have to analyze the dataset and answer the questions below.\n",
    "\n",
    "1. Which features are categorical? Which are continuous?"
   ]
  },
  {
   "cell_type": "code",
   "execution_count": 3,
   "id": "449dea12-b977-43e4-b454-6eeb6b62d034",
   "metadata": {},
   "outputs": [
    {
     "data": {
      "text/plain": [
       "Name                  object\n",
       "Type 1                object\n",
       "Type 2                object\n",
       "HP                   float64\n",
       "Attack               float64\n",
       "Defense              float64\n",
       "Sp. Atk              float64\n",
       "Sp. Def              float64\n",
       "Speed                float64\n",
       "Generation           float64\n",
       "Legendary             object\n",
       "Name__other           object\n",
       "Type 1__other         object\n",
       "Type 2__other         object\n",
       "HP__other            float64\n",
       "Attack__other        float64\n",
       "Defense__other       float64\n",
       "Sp. Atk__other       float64\n",
       "Sp. Def__other       float64\n",
       "Speed__other         float64\n",
       "Generation__other    float64\n",
       "Legendary__other      object\n",
       "dtype: object"
      ]
     },
     "execution_count": 3,
     "metadata": {},
     "output_type": "execute_result"
    }
   ],
   "source": [
    "X.dtypes"
   ]
  },
  {
   "cell_type": "markdown",
   "id": "74d6fdf6-20ac-4c0c-b0fc-e39941f774cc",
   "metadata": {},
   "source": [
    "2. Observe the distribution of the \"Type 1\" variable. Use a plot to show this distribution."
   ]
  },
  {
   "cell_type": "code",
   "execution_count": 4,
   "id": "973db97c-436b-480c-924b-76f19f78f619",
   "metadata": {},
   "outputs": [
    {
     "data": {
      "text/plain": [
       "<AxesSubplot: >"
      ]
     },
     "execution_count": 4,
     "metadata": {},
     "output_type": "execute_result"
    },
    {
     "data": {
      "image/png": "[encoded data removed]",
      "text/plain": [
       "<Figure size 400x200 with 1 Axes>"
      ]
     },
     "metadata": {},
     "output_type": "display_data"
    }
   ],
   "source": [
    "X['Type 1'].value_counts().plot(kind='bar', figsize=(4,2), fontsize=6)"
   ]
  },
  {
   "cell_type": "markdown",
   "id": "f024e8b3-590e-4908-8e1e-a77673ec6db2",
   "metadata": {},
   "source": [
    "3. Determine which of the features have missing values. How many missing values there are for each one?"
   ]
  },
  {
   "cell_type": "code",
   "execution_count": 5,
   "id": "607d9660",
   "metadata": {},
   "outputs": [
    {
     "data": {
      "text/plain": [
       "Name                  3994\n",
       "Type 1                3974\n",
       "Type 2               20535\n",
       "HP                    4006\n",
       "Attack                3897\n",
       "Defense               4034\n",
       "Sp. Atk               3920\n",
       "Sp. Def               3982\n",
       "Speed                 3972\n",
       "Generation            3993\n",
       "Legendary             3981\n",
       "Name__other           3963\n",
       "Type 1__other         4010\n",
       "Type 2__other        20594\n",
       "HP__other             4105\n",
       "Attack__other         3995\n",
       "Defense__other        4016\n",
       "Sp. Atk__other        4096\n",
       "Sp. Def__other        4005\n",
       "Speed__other          4044\n",
       "Generation__other     3986\n",
       "Legendary__other      3982\n",
       "dtype: int64"
      ]
     },
     "execution_count": 5,
     "metadata": {},
     "output_type": "execute_result"
    }
   ],
   "source": [
    "X.isna().sum()\n",
    "# About 4000 missing values per column\n",
    "# But Type 2 has extra missing values because not every pokemon has Type 2 (same applies for the __other variable)"
   ]
  },
  {
   "cell_type": "markdown",
   "id": "7f983236-2bf6-495f-adc2-266c0dba82e6",
   "metadata": {},
   "source": [
    "4. Analize the distribution of the target column. Is it balanced?"
   ]
  },
  {
   "cell_type": "code",
   "execution_count": 6,
   "id": "a253ecaf-ee73-42ce-a8eb-db7d23862356",
   "metadata": {},
   "outputs": [
    {
     "name": "stdout",
     "output_type": "stream",
     "text": [
      "Total target\n",
      "False    21152\n",
      "True     18848\n",
      "Name: Wins, dtype: int64\n",
      "\n",
      "Percentage target\n",
      "False    0.5288\n",
      "True     0.4712\n",
      "Name: Wins, dtype: float64\n"
     ]
    },
    {
     "data": {
      "text/plain": [
       "<AxesSubplot: >"
      ]
     },
     "execution_count": 6,
     "metadata": {},
     "output_type": "execute_result"
    },
    {
     "data": {
      "image/png": "[encoded data removed]",
      "text/plain": [
       "<Figure size 400x200 with 1 Axes>"
      ]
     },
     "metadata": {},
     "output_type": "display_data"
    }
   ],
   "source": [
    "print('Total target')\n",
    "print(y.value_counts())\n",
    "\n",
    "print('')\n",
    "\n",
    "print('Percentage target')\n",
    "print(y.value_counts() / len(y))\n",
    "\n",
    "y.value_counts().plot(kind='bar', figsize=(4,2), fontsize=6)\n",
    "# Quite balanced, not perfect 50%, but a 3% deviation doesn't scream bias"
   ]
  },
  {
   "cell_type": "markdown",
   "id": "15bd9135-71cf-4624-8a35-208a23faaaeb",
   "metadata": {
    "tags": []
   },
   "source": [
    "## Part 2 - Preprocess the data (3 points)\n",
    "Once we know how the dataset is, we can proceed with the cleaning of the data. This includes:\n",
    "\n",
    "- Select the features that you want to use (p.e. removing too specific features). Explain why each feature is used or discarded.\n",
    "- Impute the missing values. Explain why you use this imputer and not another one. If you use different imputers for different features, explain the reason why you do this.\n",
    "- Encode the values of the features to work with the model you choose. This can be either encoding the categorical values, or discretizing continuous values."
   ]
  },
  {
   "cell_type": "code",
   "execution_count": 7,
   "id": "0d28dd34",
   "metadata": {},
   "outputs": [],
   "source": [
    "# There is certain information that can be deduced directly from the \n",
    "# name of a Pokemon\n",
    "# This information is:\n",
    "# - The stats of the Pokemon if we know their level\n",
    "#   (and we can deduce their level from their other stats)\n",
    "# - Types of the Pokemon\n",
    "# - Other data such as if the Pokemon is legendary, the generation etc."
   ]
  },
  {
   "cell_type": "code",
   "execution_count": 8,
   "id": "f64a7998",
   "metadata": {},
   "outputs": [
    {
     "data": {
      "text/plain": [
       "Name                  3994\n",
       "Type 1                 415\n",
       "Type 2               20535\n",
       "HP                    4006\n",
       "Attack                3897\n",
       "Defense               4034\n",
       "Sp. Atk               3920\n",
       "Sp. Def               3982\n",
       "Speed                 3972\n",
       "Generation             409\n",
       "Legendary              434\n",
       "Name__other           3963\n",
       "Type 1__other          389\n",
       "Type 2__other        20594\n",
       "HP__other             4105\n",
       "Attack__other         3995\n",
       "Defense__other        4016\n",
       "Sp. Atk__other        4096\n",
       "Sp. Def__other        4005\n",
       "Speed__other          4044\n",
       "Generation__other      410\n",
       "Legendary__other       358\n",
       "dtype: int64"
      ]
     },
     "execution_count": 8,
     "metadata": {},
     "output_type": "execute_result"
    }
   ],
   "source": [
    "# In this cell we are going to the deduce\n",
    "# information about these attributes:\n",
    "deduce_from_name = ['Type 1', 'Legendary', 'Generation']\n",
    "\n",
    "def fill_info_from_name(X, column):\n",
    "    name_type = X[add_opposite_labels(['Name', column])].dropna()\n",
    "    types_pokemon = {}\n",
    "    for n, t in double_opposite_labels(['Name', column]):\n",
    "        types_pokemon.update(dict(zip(name_type[n],name_type[t])))\n",
    "\n",
    "    to_add = {}\n",
    "    for k, v in types_pokemon.items():\n",
    "        k = remove_prefix(k, 'Mega ')\n",
    "        if k not in types_pokemon:\n",
    "            to_add[k] = v\n",
    "    types_pokemon.update(to_add)\n",
    "\n",
    "    for n, t in double_opposite_labels(['Name', column]):\n",
    "        filler = X.apply(lambda row: types_pokemon.get(row[n], None), axis=1)\n",
    "        X[t] = X[t].fillna(filler)\n",
    "\n",
    "for col in deduce_from_name:\n",
    "    fill_info_from_name(X, col)\n",
    "# This allows us to predict 90% of the missing information for the columns\n",
    "# that can be deduced from the Pokemon's Name\n",
    "X.isna().sum()"
   ]
  },
  {
   "cell_type": "code",
   "execution_count": 9,
   "id": "48fcdfcf",
   "metadata": {},
   "outputs": [
    {
     "data": {
      "text/plain": [
       "Name                    0\n",
       "Type 1                  0\n",
       "Type 2                  0\n",
       "HP                   4006\n",
       "Attack               3897\n",
       "Defense              4034\n",
       "Sp. Atk              3920\n",
       "Sp. Def              3982\n",
       "Speed                3972\n",
       "Generation            409\n",
       "Legendary             434\n",
       "Name__other             0\n",
       "Type 1__other           0\n",
       "Type 2__other           0\n",
       "HP__other            4105\n",
       "Attack__other        3995\n",
       "Defense__other       4016\n",
       "Sp. Atk__other       4096\n",
       "Sp. Def__other       4005\n",
       "Speed__other         4044\n",
       "Generation__other     410\n",
       "Legendary__other      358\n",
       "dtype: int64"
      ]
     },
     "execution_count": 9,
     "metadata": {},
     "output_type": "execute_result"
    }
   ],
   "source": [
    "# A lot of pokemons do NOT have Type 2, so those numbers are not representative\n",
    "# We may miss some information otherwise, but we should not fill in random Type 2\n",
    "# from pokemons around\n",
    "\n",
    "# We don't want to fill with other imputters these values if they are None at this point\n",
    "for col in add_opposite_labels(['Name', 'Type 2', 'Type 1']):\n",
    "    X[col] = X[col].fillna(value='')\n",
    "\n",
    "X.isna().sum()"
   ]
  },
  {
   "cell_type": "code",
   "execution_count": 10,
   "id": "52ad75ed",
   "metadata": {},
   "outputs": [],
   "source": [
    "# from sklearn.impute import SimpleImputer\n",
    "predict_columns = [\n",
    "    col\n",
    "    for col in X.columns if '__other' not in col\n",
    "    if col not in {'Name', 'Type 1', 'Type 2'}\n",
    "]\n",
    "name_predict_columns = ['Name'] + predict_columns\n",
    "\n",
    "columns_other = {\n",
    "    opposite_label(col): col for col in name_predict_columns\n",
    "}\n",
    "name_columns_other = get_opposite_labels(name_predict_columns)\n",
    "\n",
    "# first_half = X[predict_columns]\n",
    "# second_half = X[get_opposite_labels(predict_columns)]\n",
    "# second_half = second_half.rename(columns=columns_other)\n",
    "# unified_pokemons = pandas.concat([X[name_predict_columns], X[name_columns_other].rename(columns=columns_other)])\n",
    "\n",
    "# named_pokemons = unified_pokemons[unified_pokemons['Name'].notna()]\n",
    "# named_pokemons_nan = named_pokemons[named_pokemons.isna().any(axis=1)]\n",
    "\n",
    "# from ipywidgets import IntProgress\n",
    "# from IPython.display import display\n",
    "\n",
    "# f = IntProgress(min=0, max=len(named_pokemons_nan.index))\n",
    "# display(f)\n",
    "\n",
    "# for index, row in named_pokemons_nan.iterrows():\n",
    "#     f.value += 1\n",
    "#     name = remove_prefix(row['Name'], 'Mega ')\n",
    "#     train_iteration = unified_pokemons[unified_pokemons['Name'] == name]\n",
    "#     train_iteration = train_iteration[train_iteration.isna().any(axis=1)]\n",
    "#     number_train = len(train_iteration.index)\n",
    "#     if number_train < 2:\n",
    "#         continue\n",
    "#     row.loc[predict_columns] = train_iteration[predict_columns].mean()\n",
    "#     X.loc[index] = row\n",
    "\n"
   ]
  },
  {
   "cell_type": "code",
   "execution_count": 11,
   "id": "9bf69c3b-a774-4386-bfed-42e127964245",
   "metadata": {},
   "outputs": [
    {
     "data": {
      "text/plain": [
       "Name                 0\n",
       "Type 1               0\n",
       "Type 2               0\n",
       "HP                   0\n",
       "Attack               0\n",
       "Defense              0\n",
       "Sp. Atk              0\n",
       "Sp. Def              0\n",
       "Speed                0\n",
       "Generation           0\n",
       "Legendary            0\n",
       "Name__other          0\n",
       "Type 1__other        0\n",
       "Type 2__other        0\n",
       "HP__other            0\n",
       "Attack__other        0\n",
       "Defense__other       0\n",
       "Sp. Atk__other       0\n",
       "Sp. Def__other       0\n",
       "Speed__other         0\n",
       "Generation__other    0\n",
       "Legendary__other     0\n",
       "dtype: int64"
      ]
     },
     "execution_count": 11,
     "metadata": {},
     "output_type": "execute_result"
    }
   ],
   "source": [
    "from sklearn.impute import KNNImputer\n",
    "imputer = KNNImputer(n_neighbors=2, weights='distance')\n",
    "\n",
    "first_half = X[predict_columns]\n",
    "second_half = X[get_opposite_labels(predict_columns)]\n",
    "second_half = second_half.rename(columns=columns_other)\n",
    "imputer.fit(pandas.concat([first_half, second_half]))\n",
    "\n",
    "first_half_predict = imputer.transform(first_half)\n",
    "second_half_predict = imputer.transform(second_half)\n",
    "X[predict_columns] = first_half_predict\n",
    "X[get_opposite_labels(predict_columns)] = second_half_predict\n",
    "X.isna().sum()"
   ]
  },
  {
   "cell_type": "code",
   "execution_count": 12,
   "id": "ae2f2cde",
   "metadata": {},
   "outputs": [],
   "source": [
    "with open('type-chart.json') as f:\n",
    "    type_matrix = json.load(f)\n",
    "\n",
    "def map_row_attack_multipler(row, opposite):\n",
    "    type_row = ['Type 1', 'Type 2']\n",
    "    if opposite:\n",
    "        type_row = get_opposite_labels(type_row)\n",
    "    best_attack_multiplier = 0.25\n",
    "    at_least_one_type = False\n",
    "    for attack_type in type_row:\n",
    "        attack_type = row[attack_type].lower()\n",
    "        if not attack_type: continue\n",
    "        multiplier = 1\n",
    "        for defense_type in type_row:\n",
    "            enemy_defense = defense_type if opposite else opposite_label(defense_type)\n",
    "            defense_type = row[enemy_defense].lower()\n",
    "            if not defense_type: continue\n",
    "            multiplier *= type_matrix[attack_type][defense_type]\n",
    "            at_least_one_type = True\n",
    "        best_attack_multiplier = max(best_attack_multiplier, multiplier)\n",
    "    if not at_least_one_type:\n",
    "        return 1\n",
    "    return best_attack_multiplier\n",
    "            \n",
    "\n",
    "\n",
    "def add_pokemon_ratio(df):\n",
    "    clean_ratios = df[add_opposite_labels(['Attack', 'Defense', 'Sp. Atk', 'Sp. Def'])]\n",
    "    clean_ratios = df.replace(0, 1)\n",
    "    for side in [True, False]:\n",
    "        ot_label = '', '__other'\n",
    "        if not side:\n",
    "            ot_label = ot_label[::-1]\n",
    "        first_label, second_label = ot_label\n",
    "        at_def_ratio = df[f'Attack{first_label}'] / clean_ratios[f'Defense{second_label}']\n",
    "        sp_at_def_ratio = df[f'Sp. Atk{first_label}'] / clean_ratios[f'Sp. Def{second_label}']\n",
    "        best_ratio = pandas.concat([at_def_ratio, sp_at_def_ratio], axis=1).max(axis=1)\n",
    "        df[f'best_attack_ratio{first_label}'] = best_ratio\n",
    "\n",
    "        \n",
    "        df[f'is_mega{first_label}'] = df[f'Name{first_label}'].str.contains('Mega ', regex=False).astype(int)\n",
    "        stat_sum = X[[f'HP{first_label}', f'Attack{first_label}' , f'Defense{first_label}' , f'Sp. Atk{first_label}' ,f'Sp. Def{first_label}' ,f'Speed{first_label}']].sum(axis=1)\n",
    "        df[f'sum_stats{first_label}'] = stat_sum\n",
    "\n",
    "    df['attack_multiplier'] = df.apply(lambda row: map_row_attack_multipler(row, opposite=False),axis=1)\n",
    "    df[opposite_label('attack_multiplier')] = df.apply(lambda row: map_row_attack_multipler(row, opposite=True),axis=1)\n",
    "    df['attack_multipler_diff'] = df['attack_multiplier'] - df[opposite_label('attack_multiplier')]\n",
    "    df['sum_stats_diff'] = df['sum_stats'] - df[opposite_label('sum_stats')]\n",
    "    df['HP_diff'] = df['HP'] - df[opposite_label('HP')]\n",
    "    df['HP_attack'] = df['HP'] / df[opposite_label('attack_multiplier')]\n",
    "    df[opposite_label('HP_attack')] = df[opposite_label('HP')] / df['attack_multiplier']\n",
    "    df['HP_attack_diff'] = df['HP_attack'] - df[opposite_label('HP_attack')]\n",
    "    df['HP_attack_multiplier_diff'] = df['attack_multipler_diff'] * df['HP_diff']\n",
    "    df['strong_pokemon'] = df['is_mega'] - df[opposite_label('is_mega')] + df['Legendary'] - df[opposite_label('Legendary')]\n",
    "    df['velocity_diff'] =  (df['Speed'] - df['Speed__other'])"
   ]
  },
  {
   "cell_type": "code",
   "execution_count": 13,
   "id": "824aee27",
   "metadata": {},
   "outputs": [],
   "source": [
    "add_pokemon_ratio(X)"
   ]
  },
  {
   "cell_type": "code",
   "execution_count": 14,
   "id": "c33e80cf",
   "metadata": {},
   "outputs": [],
   "source": [
    "# We will remove:\n",
    "# - Name, as the name is relevant for the combat, other than for detecting if it is a mega pokemon\n",
    "# - Types, because we have encoded their information in the attack multipler information\n",
    "# - Stats (HP, Attack, Defense etc.).\n",
    "#       Because the relevant information for a combat is the difference in stats, not the stats of an individual pokemon per se.\n",
    "#       NOTE: This decision has been verified empirically and is not just a hyphothesis\n",
    "# - Generation, as the generation is not relevant for combat\n",
    "# - Legendary and Mega information of pokemons, as the difference is encoded in the 'strong_pokemon' attribute\n",
    "#       NOTE: The decision of including information about whether a pokemon is Mega or Legendary should not be really relevant\n",
    "#       However, given that we can easily encode that information as an integer with the 'strong pokemon' attribute, this may be a good summary attribute.\n",
    "X_dropped = X[['attack_multipler_diff', 'sum_stats_diff', 'HP_diff', 'HP_attack_diff', 'strong_pokemon', 'velocity_diff', 'HP_attack', 'HP_attack_multiplier_diff']]"
   ]
  },
  {
   "cell_type": "code",
   "execution_count": 15,
   "id": "20d577a5",
   "metadata": {},
   "outputs": [
    {
     "data": {
      "text/html": [
       "<div>\n",
       "<style scoped>\n",
       "    .dataframe tbody tr th:only-of-type {\n",
       "        vertical-align: middle;\n",
       "    }\n",
       "\n",
       "    .dataframe tbody tr th {\n",
       "        vertical-align: top;\n",
       "    }\n",
       "\n",
       "    .dataframe thead th {\n",
       "        text-align: right;\n",
       "    }\n",
       "</style>\n",
       "<table border=\"1\" class=\"dataframe\">\n",
       "  <thead>\n",
       "    <tr style=\"text-align: right;\">\n",
       "      <th></th>\n",
       "      <th>attack_multipler_diff</th>\n",
       "      <th>sum_stats_diff</th>\n",
       "      <th>HP_diff</th>\n",
       "      <th>HP_attack_diff</th>\n",
       "      <th>strong_pokemon</th>\n",
       "      <th>velocity_diff</th>\n",
       "      <th>HP_attack</th>\n",
       "      <th>HP_attack_multiplier_diff</th>\n",
       "    </tr>\n",
       "  </thead>\n",
       "  <tbody>\n",
       "    <tr>\n",
       "      <th>39087</th>\n",
       "      <td>0.0</td>\n",
       "      <td>37.000000</td>\n",
       "      <td>0.0</td>\n",
       "      <td>0.0</td>\n",
       "      <td>0.0</td>\n",
       "      <td>15.0</td>\n",
       "      <td>50.0</td>\n",
       "      <td>0.00</td>\n",
       "    </tr>\n",
       "    <tr>\n",
       "      <th>30893</th>\n",
       "      <td>1.5</td>\n",
       "      <td>266.470115</td>\n",
       "      <td>5.0</td>\n",
       "      <td>107.5</td>\n",
       "      <td>0.0</td>\n",
       "      <td>67.5</td>\n",
       "      <td>140.0</td>\n",
       "      <td>7.50</td>\n",
       "    </tr>\n",
       "    <tr>\n",
       "      <th>45278</th>\n",
       "      <td>0.5</td>\n",
       "      <td>210.525513</td>\n",
       "      <td>22.5</td>\n",
       "      <td>92.5</td>\n",
       "      <td>1.0</td>\n",
       "      <td>61.0</td>\n",
       "      <td>140.0</td>\n",
       "      <td>11.25</td>\n",
       "    </tr>\n",
       "    <tr>\n",
       "      <th>16398</th>\n",
       "      <td>0.0</td>\n",
       "      <td>5.500000</td>\n",
       "      <td>20.0</td>\n",
       "      <td>20.0</td>\n",
       "      <td>0.0</td>\n",
       "      <td>-16.5</td>\n",
       "      <td>95.0</td>\n",
       "      <td>0.00</td>\n",
       "    </tr>\n",
       "    <tr>\n",
       "      <th>13653</th>\n",
       "      <td>0.0</td>\n",
       "      <td>-163.000000</td>\n",
       "      <td>5.0</td>\n",
       "      <td>5.0</td>\n",
       "      <td>0.0</td>\n",
       "      <td>-30.0</td>\n",
       "      <td>45.0</td>\n",
       "      <td>0.00</td>\n",
       "    </tr>\n",
       "  </tbody>\n",
       "</table>\n",
       "</div>"
      ],
      "text/plain": [
       "       attack_multipler_diff  sum_stats_diff  HP_diff  HP_attack_diff  \\\n",
       "39087                    0.0       37.000000      0.0             0.0   \n",
       "30893                    1.5      266.470115      5.0           107.5   \n",
       "45278                    0.5      210.525513     22.5            92.5   \n",
       "16398                    0.0        5.500000     20.0            20.0   \n",
       "13653                    0.0     -163.000000      5.0             5.0   \n",
       "\n",
       "       strong_pokemon  velocity_diff  HP_attack  HP_attack_multiplier_diff  \n",
       "39087             0.0           15.0       50.0                       0.00  \n",
       "30893             0.0           67.5      140.0                       7.50  \n",
       "45278             1.0           61.0      140.0                      11.25  \n",
       "16398             0.0          -16.5       95.0                       0.00  \n",
       "13653             0.0          -30.0       45.0                       0.00  "
      ]
     },
     "execution_count": 15,
     "metadata": {},
     "output_type": "execute_result"
    }
   ],
   "source": [
    "X_dropped.head()"
   ]
  },
  {
   "cell_type": "markdown",
   "id": "616b803e-0f87-41dc-a1a9-a7256fb824ba",
   "metadata": {},
   "source": [
    "## Part 3 - Training your model (3 points)\n",
    "In this part you have to train a **classifier** model to predict if a Pokemon will win or not a battle against another Pokemon. For this, you should explore at least 3 different classifiers.\n",
    "\n",
    "You have to train and evaluate those classifiers using cross-validation in order to select the best one. Then, you should also study the results of the model (overfit, underfit, possible bias...).\n",
    "\n",
    "1. Train (at least) 3 different classifiers\n",
    "2. Evaluate the 3 classifiers using cross-validation. Select the best model according to this metric.\n",
    "3. For the selected model: \n",
    "   1. Get the accuracy for data not seen during the training process\n",
    "   2. Plot the confusion matrix\n",
    "   3. Analize the results of accuracy and the confusion matrix"
   ]
  },
  {
   "cell_type": "code",
   "execution_count": 16,
   "id": "c41f9e74-4521-413c-9f77-ed70e05b8cc7",
   "metadata": {},
   "outputs": [
    {
     "name": "stdout",
     "output_type": "stream",
     "text": [
      "(40000, 39) (32000, 8) (8000, 8)\n",
      "(40000,) (32000,) (8000,)\n"
     ]
    },
    {
     "data": {
      "text/plain": [
       "array([[ 3.80894197e-01, -9.91619067e-01, -2.57292678e+00, ...,\n",
       "         6.84906768e-01, -9.08131385e-01, -1.63272456e+00],\n",
       "       [ 3.80894197e-01,  2.47688085e-03,  2.71373664e-01, ...,\n",
       "        -4.96726007e-02,  4.97938513e-01,  1.43050520e-01],\n",
       "       [ 3.80894197e-01,  1.90147651e-01,  5.38444128e-01, ...,\n",
       "        -1.92166519e+00,  1.72824967e+00,  3.09789964e-01],\n",
       "       ...,\n",
       "       [ 9.94961118e-01, -5.74839710e-01, -4.91108925e-02, ...,\n",
       "        -4.05114231e-01, -5.03886289e-01, -9.03847017e-02],\n",
       "       [ 9.94961118e-01,  5.48920927e-01,  1.64545479e-01, ...,\n",
       "         6.37514551e-01, -1.17618252e-02,  1.76398409e-01],\n",
       "       [-2.33172724e-01, -2.85543814e-01, -1.62874553e+00, ...,\n",
       "         2.10984595e-01, -4.51675919e-01, -2.36889241e-02]])"
      ]
     },
     "execution_count": 16,
     "metadata": {},
     "output_type": "execute_result"
    }
   ],
   "source": [
    "from sklearn.model_selection import train_test_split\n",
    "test_size_pctg = 0.2\n",
    "seed = 42\n",
    "\n",
    "X_train, X_test, y_train, y_test = train_test_split(X_dropped, y, test_size=test_size_pctg, random_state=seed)\n",
    "\n",
    "print(X.shape, X_train.shape, X_test.shape)\n",
    "print(y.shape, y_train.shape, y_test.shape)\n",
    "\n",
    "\n",
    "\n",
    "from sklearn.preprocessing import StandardScaler\n",
    "\n",
    "scaler = StandardScaler()\n",
    "scaler.fit(X_train)  # Learn std.dev and mean\n",
    "\n",
    "new_X = scaler.transform(X_train)\n",
    "# Note that the scaler will return a numpy array\n",
    "new_X"
   ]
  },
  {
   "cell_type": "code",
   "execution_count": 17,
   "id": "93f9c900",
   "metadata": {},
   "outputs": [
    {
     "name": "stdout",
     "output_type": "stream",
     "text": [
      "Score in train: 0.842625\n"
     ]
    }
   ],
   "source": [
    "from sklearn.model_selection import train_test_split\n",
    "from sklearn.tree import DecisionTreeClassifier\n",
    "from matplotlib import pyplot as plt\n",
    "from sklearn import tree\n",
    "\n",
    "model = DecisionTreeClassifier(criterion=\"entropy\", max_depth=1, min_samples_leaf=5)\n",
    "model.fit(new_X, y_train)\n",
    "\n",
    "print(\"Score in train:\", model.score(new_X, y_train))"
   ]
  },
  {
   "cell_type": "code",
   "execution_count": 18,
   "id": "945f1513",
   "metadata": {},
   "outputs": [
    {
     "data": {
      "image/png": "[encoded data removed]",
      "text/plain": [
       "<Figure size 640x480 with 1 Axes>"
      ]
     },
     "metadata": {},
     "output_type": "display_data"
    }
   ],
   "source": [
    "tree.plot_tree(model, feature_names=list(X_train.columns), class_names=[\"False\", \"True\"], proportion=True, precision=2, fontsize=4)\n",
    "import matplotlib as mpl\n",
    "\n",
    "mpl.rcParams['figure.dpi'] = 2000\n",
    "plt.show()"
   ]
  },
  {
   "cell_type": "code",
   "execution_count": 19,
   "id": "f5408aa0",
   "metadata": {},
   "outputs": [
    {
     "name": "stdout",
     "output_type": "stream",
     "text": [
      "Score in train: 0.84553125\n"
     ]
    }
   ],
   "source": [
    "from sklearn.model_selection import train_test_split\n",
    "from sklearn.ensemble import RandomForestClassifier\n",
    "\n",
    "model = RandomForestClassifier(criterion=\"entropy\", max_depth=5, min_samples_leaf=5)\n",
    "model.fit(new_X, y_train)\n",
    "\n",
    "print(\"Score in train:\", model.score(new_X, y_train))"
   ]
  },
  {
   "cell_type": "code",
   "execution_count": 20,
   "id": "e61a3bd8",
   "metadata": {},
   "outputs": [
    {
     "name": "stdout",
     "output_type": "stream",
     "text": [
      "Score in test: 0.8395\n"
     ]
    }
   ],
   "source": [
    "X_test_prepared = scaler.transform(X_test)\n",
    "\n",
    "print(\"Score in test:\", model.score(X_test_prepared, y_test))"
   ]
  },
  {
   "cell_type": "markdown",
   "id": "bc186c17-b9e0-4ad6-82a9-6b638ab41d0d",
   "metadata": {},
   "source": [
    "## Part 4 (Optional) - Create an ensemble and configure the model\n",
    "\n",
    "You have trained different classifiers but selected only one of them as \"the best\" one. Maybe instead of having the models competing between them, having them to colaborate would yield better results. \n",
    "\n",
    "We propose you to create an ensemble of the different classifiers explored in *Part 3*. You should compare the ensemble with the individual models using cross-validation, and then get the final accuracy and the confusion matrix for the ensemble.\n",
    "As a bonus, try to tune the parameters of this ensemble using either `GridSearchCV` or `RandomizedSearchCV`.\n",
    "\n",
    "1. Train an ensemble with the classifiers in *Part 3*.\n",
    "2. Compare the performance of this ensemble using cross-validation, the final accuracy, and the confusion matrix. Analyze the results.\n",
    "3. Fine-tune the hyper-parameters of the ensemble using `GridSearchCV` or `RandomizedSearchCV`."
   ]
  },
  {
   "cell_type": "code",
   "execution_count": 21,
   "id": "e6f8a7e8-0d31-44a0-bbfa-ed74337edf8c",
   "metadata": {},
   "outputs": [],
   "source": [
    "# Your code here..."
   ]
  },
  {
   "cell_type": "markdown",
   "id": "44b2b144-ee23-4c6a-b8c8-4abf6e85dedb",
   "metadata": {},
   "source": [
    "## Part 5 - Wrap-up (2 points)\n",
    "The final part of this assignment is to wrap-up your classifier into a pipeline. This pipeline will execute the entire process:\n",
    "\n",
    "- Preprocess the data\n",
    "    - Select features\n",
    "    - Impute data\n",
    "    - Encode values\n",
    "- The classifier selected in *Part 3* (or the ensemble if it is better)\n",
    "\n",
    "This pipeline will be used in the other provided notebook to generate the predictions for the combats you have to submit.\n",
    "\n",
    "To ensure everything works as expected, we recommend you to load the dataset again before using it with the pipeline. You should also compare the accuracy and the confusion matrix from the pipeline with the model trained before. **Remember to set the random state to all the required transformers and estimators to have a constant output**."
   ]
  },
  {
   "cell_type": "code",
   "execution_count": 22,
   "id": "f464b6bb-4f99-4671-ba66-5f8d93ee1a46",
   "metadata": {},
   "outputs": [],
   "source": [
    "# Your code here..."
   ]
  }
 ],
 "metadata": {
  "kernelspec": {
   "display_name": "Python 3.10.6 ('venv': venv)",
   "language": "python",
   "name": "python3"
  },
  "language_info": {
   "codemirror_mode": {
    "name": "ipython",
    "version": 3
   },
   "file_extension": ".py",
   "mimetype": "text/x-python",
   "name": "python",
   "nbconvert_exporter": "python",
   "pygments_lexer": "ipython3",
   "version": "3.10.6"
  },
  "vscode": {
   "interpreter": {
    "hash": "a40a9907af80ab7544b853e115e9640ce53f7cc981912ef559c1328ace6864ed"
   }
  }
 },
 "nbformat": 4,
 "nbformat_minor": 5
}
